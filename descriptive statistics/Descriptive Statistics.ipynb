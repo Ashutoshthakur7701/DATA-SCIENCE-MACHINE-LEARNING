{
 "cells": [
  {
   "cell_type": "markdown",
   "id": "bab6f296",
   "metadata": {},
   "source": [
    "# Calculate Mean Median Mode"
   ]
  },
  {
   "cell_type": "code",
   "execution_count": null,
   "id": "1609366a",
   "metadata": {},
   "outputs": [],
   "source": [
    "1 = import statistics\n",
    "\n",
    "arr = [24, 43, 41, 33, 25, 19, 17, 9, 50, 34, 55, 2, 25, 21]\n",
    "\n",
    "print(int(statistics.mean(arr)))\n",
    "print(int(statistics.median(arr)))\n",
    "print(int(statistics.mode(arr)))"
   ]
  },
  {
   "cell_type": "markdown",
   "id": "c7acd72f",
   "metadata": {},
   "source": [
    "# Calculate Quantile Statistics"
   ]
  },
  {
   "cell_type": "code",
   "execution_count": null,
   "id": "070b0319",
   "metadata": {},
   "outputs": [],
   "source": [
    "import numpy as np\n",
    "\n",
    "arr = [24, 43, 41, 33, 25, 19, 17, 9, 50, 34, 55, 2, 25, 21]\n",
    "\n",
    "quant = np.quantile(arr, [0, 0.25, 0.5, 0.75, 1])\n",
    "\n",
    "for i in quant:\n",
    "    print(int(i))"
   ]
  },
  {
   "cell_type": "markdown",
   "id": "7824b3e6",
   "metadata": {},
   "source": [
    "# Calculate IQR Statistics"
   ]
  },
  {
   "cell_type": "code",
   "execution_count": null,
   "id": "a378ad3e",
   "metadata": {},
   "outputs": [],
   "source": [
    "import numpy as np\n",
    "\n",
    "data = [24, 43, 41, 33, 25, 19, 17, 9, 50, 34, 55, 2, 25, 21]\n",
    "\n",
    "q1, q3 = np.percentile(data, [25,75])\n",
    "\n",
    "iqr = q3 - q1\n",
    "print(int(iqr))"
   ]
  },
  {
   "cell_type": "markdown",
   "id": "48fc9b3a",
   "metadata": {},
   "source": [
    "# Calculate Variance and Standard Deviation"
   ]
  },
  {
   "cell_type": "code",
   "execution_count": null,
   "id": "8c3d5dd7",
   "metadata": {},
   "outputs": [],
   "source": [
    "import statistics \n",
    "arr = [24, 43, 41, 33, 25, 19, 17, 9, 50, 34, 55, 2, 25, 21]\n",
    "print(int(statistics.variance(arr))) \n",
    "print(int((statistics.stdev(arr))))"
   ]
  }
 ],
 "metadata": {
  "kernelspec": {
   "display_name": "Python 3 (ipykernel)",
   "language": "python",
   "name": "python3"
  },
  "language_info": {
   "codemirror_mode": {
    "name": "ipython",
    "version": 3
   },
   "file_extension": ".py",
   "mimetype": "text/x-python",
   "name": "python",
   "nbconvert_exporter": "python",
   "pygments_lexer": "ipython3",
   "version": "3.9.12"
  }
 },
 "nbformat": 4,
 "nbformat_minor": 5
}
