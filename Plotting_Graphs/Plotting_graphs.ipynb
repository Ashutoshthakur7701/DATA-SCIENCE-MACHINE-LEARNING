{
 "cells": [
  {
   "cell_type": "markdown",
   "id": "332d1d93",
   "metadata": {},
   "source": [
    "# Plot line"
   ]
  },
  {
   "cell_type": "code",
   "execution_count": null,
   "id": "f12696ea",
   "metadata": {},
   "outputs": [],
   "source": [
    "import matplotlib.pyplot as plt\n",
    "\n",
    "x =[0,1,2,3,4,5,6,7,9,10]\n",
    "y=[1,2,5,10,17,26,37,50,82,101]\n",
    "\n",
    "plt.plot(x,y)\n",
    "plt.show()\n",
    "print('60 to 70')"
   ]
  },
  {
   "cell_type": "markdown",
   "id": "29c429c6",
   "metadata": {},
   "source": [
    "# Matplotlib increase"
   ]
  },
  {
   "cell_type": "code",
   "execution_count": null,
   "id": "90fb28c7",
   "metadata": {},
   "outputs": [],
   "source": [
    "import matplotlib.pyplot as plt\n",
    "import numpy as np\n",
    "x = np.arange(0,40,2)\n",
    "y=2**x\n",
    "plt.plot(x,y,'b--')\n",
    "plt.show()\n",
    "print('30')"
   ]
  },
  {
   "cell_type": "markdown",
   "id": "17ec9da5",
   "metadata": {},
   "source": [
    "# Plot Graphs"
   ]
  },
  {
   "cell_type": "code",
   "execution_count": null,
   "id": "feb7dbf5",
   "metadata": {},
   "outputs": [],
   "source": [
    "# Open and read data file as specified in the question\n",
    "# Print the required output in given format\n",
    "import matplotlib.pyplot as plt\n",
    "import numpy as np\n",
    "\n",
    "x1 =[0,1,2,3,4,5,6,7,9,10]\n",
    "y1=[1,2,5,10,17,26,37,50,82,101]\n",
    "\n",
    "x2=np.arange(0,40,2)\n",
    "y2=2*x2\n",
    "plt.plot(x1,y1,label='y')\n",
    "plt.plot(x2,y2,label='2*x2')\n",
    "plt.ylabel='Y'\n",
    "plt.xlabel = 'X'\n",
    "plt.legend()\n",
    "# plt.grid()\n",
    "plt.show()\n",
    "print('0 to 10')\n",
    "print('25 to 35')"
   ]
  },
  {
   "cell_type": "markdown",
   "id": "ebd45a88",
   "metadata": {},
   "source": [
    "# Microsoft Bubble Graph"
   ]
  },
  {
   "cell_type": "code",
   "execution_count": null,
   "id": "36c0c001",
   "metadata": {},
   "outputs": [],
   "source": [
    "import matplotlib.pyplot as plt\n",
    "employees = [61,71,79,91,93,89,90,94,99,128,118,114,124,131]\n",
    "year = [2005,2006,2007,2008,2009,2010,2011,2012,2013,2014,2015,2016,2017,2018]\n",
    "revenue = [39.79,44.28,51.12,60.42,58.44,62.48,69.94,73.72,77.85,86.83,93.58,85.32,89.95,110.36]\n",
    "\n",
    "plt.scatter(year,revenue,s=employees,c='r')\n",
    "plt.grid()\n",
    "plt.show()\n",
    "\n",
    "\n",
    "print('2008','60.42','91')\n",
    "print('2015','93.58','118')"
   ]
  },
  {
   "cell_type": "markdown",
   "id": "d9ead0ed",
   "metadata": {},
   "source": [
    "# Laptop Sales"
   ]
  },
  {
   "cell_type": "code",
   "execution_count": null,
   "id": "77fe3e51",
   "metadata": {},
   "outputs": [],
   "source": [
    "import matplotlib.pyplot as plt\n",
    "\n",
    "company=['HP','Dell','Lenovo','Asus','Apple','Acer']\n",
    "sold=[20000,43000,15000,17000,22000,13000]\n",
    "\n",
    "plt.pie(sold,labels=company,autopct='%.1f%%')\n",
    "plt.show()\n",
    "print('HP 15.4')\n",
    "print('Dell 33.1')\n",
    "print('Lenovo 11.5')\n",
    "print('Asus 13.1')\n",
    "print('Apple 16.9')\n",
    "print('Acer 10.0')"
   ]
  },
  {
   "cell_type": "markdown",
   "id": "870fb357",
   "metadata": {},
   "source": [
    "# Students data"
   ]
  },
  {
   "cell_type": "code",
   "execution_count": null,
   "id": "702acb4a",
   "metadata": {},
   "outputs": [],
   "source": [
    "import numpy as np \n",
    "import matplotlib.pyplot as plt \n",
    "height = [189,185,195,149,189,147,154,174,169,195,159,192,155,191,153,157,140,144,172,157]\n",
    "weight = [87,110,104,61,104,92,111,90,103,81,80,101,51,79,107,110,129,145,139,110] \n",
    "\n",
    "plt.hist(height,bins=5,edgecolor='black') \n",
    "# plt.xlabel('Height') \n",
    "plt.show() \n",
    "\n",
    "plt.hist(weight,bins=5,edgecolor='black') \n",
    "# plt.xlabel('Weight') \n",
    "plt.show() \n",
    " \n",
    "print(184,89)"
   ]
  },
  {
   "cell_type": "code",
   "execution_count": null,
   "id": "6b48dd92",
   "metadata": {},
   "outputs": [],
   "source": []
  }
 ],
 "metadata": {
  "kernelspec": {
   "display_name": "Python 3 (ipykernel)",
   "language": "python",
   "name": "python3"
  },
  "language_info": {
   "codemirror_mode": {
    "name": "ipython",
    "version": 3
   },
   "file_extension": ".py",
   "mimetype": "text/x-python",
   "name": "python",
   "nbconvert_exporter": "python",
   "pygments_lexer": "ipython3",
   "version": "3.9.12"
  }
 },
 "nbformat": 4,
 "nbformat_minor": 5
}
