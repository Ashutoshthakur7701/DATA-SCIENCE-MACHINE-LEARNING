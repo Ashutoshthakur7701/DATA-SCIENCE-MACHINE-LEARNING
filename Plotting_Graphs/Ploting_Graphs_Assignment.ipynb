{
 "cells": [
  {
   "cell_type": "markdown",
   "id": "961eb03d",
   "metadata": {},
   "source": [
    "# Plot Job_Year"
   ]
  },
  {
   "cell_type": "code",
   "execution_count": null,
   "id": "a39bcc38",
   "metadata": {},
   "outputs": [],
   "source": [
    "import pandas as pd \n",
    "import numpy as np \n",
    "import matplotlib.pyplot as plt\n",
    "df = pd.read_csv('amazon_jobs_dataset.csv')\n",
    "df['Posting_date'] = df['Posting_date'].str[-4:]\n",
    "df= df.sort_values(by='Posting_date',ascending=True)\n",
    "df = df.groupby(by='Posting_date').size()\n",
    "year = []\n",
    "No_of_job=[]\n",
    "for i in df.index:\n",
    "    year.append(i)\n",
    "    No_of_job.append(df.loc[i])\n",
    "    print(i,df.loc[i])\n",
    "    \n",
    "plt.plot(year,No_of_job)\n",
    "plt.show()"
   ]
  },
  {
   "cell_type": "markdown",
   "id": "24c4faae",
   "metadata": {},
   "source": [
    "# Plot Month_Job"
   ]
  },
  {
   "cell_type": "code",
   "execution_count": null,
   "id": "87db4aed",
   "metadata": {},
   "outputs": [],
   "source": [
    "import pandas as pd \n",
    "import numpy as np \n",
    "import matplotlib.pyplot as plt    \n",
    "\n",
    "df = pd.read_csv('amazon_jobs_dataset.csv')\n",
    "df['Posting_date'] = df['Posting_date'].str.split(' ').str[0]\n",
    "df = df.groupby(by=['Posting_date']).size()\n",
    "Month = []\n",
    "No_of_job=[]\n",
    "for i in df.index:\n",
    "    Month.append(i)\n",
    "    No_of_job.append(df.loc[i])\n",
    "    \n",
    "    print(i,df.loc[i])\n",
    "    \n",
    "plt.bar(Month,No_of_job)\n",
    "plt.xticks(rotation = 45)\n",
    "plt.show()"
   ]
  },
  {
   "cell_type": "markdown",
   "id": "aef1a693",
   "metadata": {},
   "source": [
    "# Plot city_job"
   ]
  },
  {
   "cell_type": "code",
   "execution_count": null,
   "id": "865973be",
   "metadata": {},
   "outputs": [],
   "source": [
    "import pandas as pd \n",
    "import numpy as np \n",
    "import matplotlib.pyplot as plt\n",
    "\n",
    "df = pd.read_csv('amazon_jobs_dataset.csv')\n",
    "df.location=df['IN' == df['location'].str.split(', ').str[0]].location.str.split(', ').str[2] \n",
    "df = df.dropna() \n",
    "group=df.groupby(by='location')\n",
    "dic={}\n",
    "for i,j in group:\n",
    "    dic[i]=df.location.str.count(i).sum()\n",
    "df = group.size()\n",
    "df = df.sort_values(ascending=False)\n",
    "City = []\n",
    "No_of_job=[]\n",
    "for i in df.index:\n",
    "    City.append(i)\n",
    "    No_of_job.append(df.loc[i])\n",
    "    print(i,format(df.loc[i]*100/sum(dic.values()),'.2f'))\n",
    "plt.pie(No_of_job,labels=City,autopct='%.2f%%')\n",
    "plt.show()"
   ]
  },
  {
   "cell_type": "markdown",
   "id": "1b33c284",
   "metadata": {},
   "source": [
    "# Plot Job_Java"
   ]
  },
  {
   "cell_type": "code",
   "execution_count": null,
   "id": "b1c8a509",
   "metadata": {},
   "outputs": [],
   "source": [
    "import pandas as pd \n",
    "import numpy as np \n",
    "import matplotlib.pyplot as plt\n",
    "import csv\n",
    "\n",
    "with open('amazon_jobs_dataset.csv', encoding='utf8') as file_obj:\n",
    "    file_data=csv.DictReader(file_obj, skipinitialspace=True)\n",
    "    year=[]\n",
    "    for row in file_data:\n",
    "        if 'java' in row['BASIC QUALIFICATIONS'] or 'Java' in row['BASIC QUALIFICATIONS']:\n",
    "            year.append(row['Posting_date'].split()[2])\n",
    "    np_year=np.array(year, dtype='int')\n",
    "    dic=dict()\n",
    "    for i in np_year:\n",
    "        if i in dic.keys():\n",
    "            dic[i]+=1\n",
    "        else:\n",
    "            dic[i]=1\n",
    "    xaxis=list(dic.keys())\n",
    "    yaxis=list(dic.values())\n",
    "    \n",
    "    np_xaxis=np.array(xaxis)\n",
    "    np_yaxis=np.array(yaxis)\n",
    "    \n",
    "    np_xaxis=np_xaxis[::-1]\n",
    "    np_yaxis=np_yaxis[::-1]\n",
    "    \n",
    "    plt.scatter(np_xaxis, np_yaxis)\n",
    "    plt.show()\n",
    "    \n",
    "    for i in range(len(np_xaxis)):\n",
    "        print(np_xaxis[i], np_yaxis[i])"
   ]
  }
 ],
 "metadata": {
  "kernelspec": {
   "display_name": "Python 3 (ipykernel)",
   "language": "python",
   "name": "python3"
  },
  "language_info": {
   "codemirror_mode": {
    "name": "ipython",
    "version": 3
   },
   "file_extension": ".py",
   "mimetype": "text/x-python",
   "name": "python",
   "nbconvert_exporter": "python",
   "pygments_lexer": "ipython3",
   "version": "3.9.12"
  }
 },
 "nbformat": 4,
 "nbformat_minor": 5
}
