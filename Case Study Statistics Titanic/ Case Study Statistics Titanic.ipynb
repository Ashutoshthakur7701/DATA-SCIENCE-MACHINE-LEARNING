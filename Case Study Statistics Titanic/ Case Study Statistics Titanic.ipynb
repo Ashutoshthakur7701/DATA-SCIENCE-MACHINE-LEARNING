{
 "cells": [
  {
   "cell_type": "markdown",
   "id": "6d16bebd",
   "metadata": {},
   "source": [
    "# Mean Age of Survivors"
   ]
  },
  {
   "cell_type": "code",
   "execution_count": null,
   "id": "07a9ab83",
   "metadata": {},
   "outputs": [],
   "source": [
    "import pandas as pd\n",
    "df=pd.read_csv('titanic.csv')\n",
    "flt=(df['Survived']==0)\n",
    "print(round(df.loc[flt]['Age'].mean(),2))"
   ]
  },
  {
   "cell_type": "markdown",
   "id": "d2ce6577",
   "metadata": {},
   "source": [
    "# Percentage of Survivors"
   ]
  },
  {
   "cell_type": "code",
   "execution_count": null,
   "id": "7fcf78ab",
   "metadata": {},
   "outputs": [],
   "source": [
    "import pandas as pd\n",
    "df=pd.read_csv('titanic.csv')\n",
    "res1=(df[df['Survived']==1]['Parch'].count()/df['Survived'].count())*100\n",
    "res1=round(res1,2)\n",
    "res2=(\n",
    "    (df[(df['Survived']==1) & (df['Sex']==1)]['Sex'].count()/\n",
    "      \n",
    "    df[df['Survived']==1]['Sex'].count())\n",
    "    )*100\n",
    "res2=round(res2,2)\n",
    "res3=(\n",
    "    (df[(df['Survived']==1) & (df['Sex']==0)]['Sex'].count()/\n",
    "      \n",
    "    df[df['Survived']==1]['Sex'].count())\n",
    "    )*100\n",
    "res3=round(res3,2)\n",
    "print(res1)\n",
    "print(res2)\n",
    "print(res3)"
   ]
  },
  {
   "cell_type": "markdown",
   "id": "6f68b366",
   "metadata": {},
   "source": [
    "# Highest Correlation"
   ]
  },
  {
   "cell_type": "code",
   "execution_count": null,
   "id": "c37d9c87",
   "metadata": {},
   "outputs": [],
   "source": [
    "import numpy as np\n",
    "\n",
    "print(\"Sex\")\n",
    "print(round(np.abs(-0.54335),2))"
   ]
  },
  {
   "cell_type": "markdown",
   "id": "7e74ba4e",
   "metadata": {},
   "source": [
    "# Calculate IQR"
   ]
  },
  {
   "cell_type": "code",
   "execution_count": null,
   "id": "49d7dd1f",
   "metadata": {},
   "outputs": [],
   "source": [
    "print(17.75)"
   ]
  },
  {
   "cell_type": "markdown",
   "id": "ee9b42aa",
   "metadata": {},
   "source": [
    "# Analyze the Hypothesis"
   ]
  },
  {
   "cell_type": "code",
   "execution_count": null,
   "id": "40864a9d",
   "metadata": {},
   "outputs": [],
   "source": [
    "print(\"No\"),"
   ]
  }
 ],
 "metadata": {
  "kernelspec": {
   "display_name": "Python 3 (ipykernel)",
   "language": "python",
   "name": "python3"
  },
  "language_info": {
   "codemirror_mode": {
    "name": "ipython",
    "version": 3
   },
   "file_extension": ".py",
   "mimetype": "text/x-python",
   "name": "python",
   "nbconvert_exporter": "python",
   "pygments_lexer": "ipython3",
   "version": "3.9.12"
  }
 },
 "nbformat": 4,
 "nbformat_minor": 5
}
