{
 "cells": [
  {
   "cell_type": "markdown",
   "id": "130a5523",
   "metadata": {},
   "source": [
    "# NumPy 2D array"
   ]
  },
  {
   "cell_type": "code",
   "execution_count": null,
   "id": "b46b5db7",
   "metadata": {},
   "outputs": [],
   "source": [
    "#Problem Statement: Given a 2D list, create a numpy 2D array using it.\n",
    "# Note: Given 2D list is [[1, 2, 3], [4, 5, 6], [7, 8, 9]]\n",
    "# Print the Numpy array.\n",
    "\n",
    "#Output Format :numpyArray"
   ]
  },
  {
   "cell_type": "code",
   "execution_count": null,
   "id": "5ea5025b",
   "metadata": {},
   "outputs": [],
   "source": [
    "import numpy as np\n",
    "print(np.array( [[1, 2, 3], [4, 5, 6], [7, 8, 9]]))"
   ]
  },
  {
   "cell_type": "markdown",
   "id": "3ce767e4",
   "metadata": {},
   "source": [
    "# NumPy 0s and 1s"
   ]
  },
  {
   "cell_type": "code",
   "execution_count": 1,
   "id": "f3407036",
   "metadata": {},
   "outputs": [],
   "source": [
    "#Problem Statement:\n",
    "#Create an integer array of size 10, where all the values should be 0 but the fifth value should be 1.\n",
    "#Print the elements of array."
   ]
  },
  {
   "cell_type": "code",
   "execution_count": null,
   "id": "f0d4171c",
   "metadata": {},
   "outputs": [],
   "source": [
    "import numpy as np\n",
    "l=np.zeros(10)\n",
    "l[5-1]=1\n",
    "for i in l:\n",
    "    print(int(i),end=' ')"
   ]
  },
  {
   "cell_type": "markdown",
   "id": "6162498f",
   "metadata": {},
   "source": [
    "# NumPy Inclusive"
   ]
  },
  {
   "cell_type": "code",
   "execution_count": 2,
   "id": "8aed82d4",
   "metadata": {},
   "outputs": [],
   "source": [
    "#Problem Statement:\n",
    "#Create an array with values ranging consecutively from 9 to 49 (both inclusive).\n",
    "#Print the Numpy array."
   ]
  },
  {
   "cell_type": "code",
   "execution_count": null,
   "id": "a9abdded",
   "metadata": {},
   "outputs": [],
   "source": [
    "import numpy as np\n",
    "a = np.arange(9,49+1)\n",
    "for i in a:\n",
    "    print(i,end=' ')"
   ]
  },
  {
   "cell_type": "markdown",
   "id": "fbb35075",
   "metadata": {},
   "source": [
    "# Identity Matrix"
   ]
  },
  {
   "cell_type": "code",
   "execution_count": 3,
   "id": "93fb7c16",
   "metadata": {},
   "outputs": [],
   "source": [
    "#Problem Statement:\n",
    "#Create a matrix having diagonal elements as 1 and all other elements as 0 of size (5, 6).\n",
    "#Print the Numpy array."
   ]
  },
  {
   "cell_type": "code",
   "execution_count": null,
   "id": "723f1f90",
   "metadata": {},
   "outputs": [],
   "source": [
    "import numpy as np\n",
    "a=np.eye(5,6,dtype=int)\n",
    "print(a)"
   ]
  },
  {
   "cell_type": "markdown",
   "id": "a4b8f4f7",
   "metadata": {},
   "source": [
    "# Cut the Rope"
   ]
  },
  {
   "cell_type": "code",
   "execution_count": 4,
   "id": "a19d35cf",
   "metadata": {},
   "outputs": [],
   "source": [
    "#Problem Statement:\n",
    "#You are given a rope of length 5m. Cut the rope into 9 parts such that each part is of equal length.\n",
    "#Note:Array elements are the points where cut is to be made and round upto 2 decimal place.\n",
    "#Print the array element."
   ]
  },
  {
   "cell_type": "code",
   "execution_count": null,
   "id": "3206c7b5",
   "metadata": {},
   "outputs": [],
   "source": [
    "import numpy as np\n",
    "a = np.linspace(0,5,10)[1:9]\n",
    "for i in a:\n",
    "    print(round(i,2))"
   ]
  },
  {
   "cell_type": "markdown",
   "id": "4d8d0ae3",
   "metadata": {},
   "source": [
    "# Print Elements"
   ]
  },
  {
   "cell_type": "code",
   "execution_count": 5,
   "id": "e62ebba9",
   "metadata": {},
   "outputs": [],
   "source": [
    "#Problem Statement:\n",
    "#Given a 2D integer array size (4, 5) with name input_?\n",
    "#Print elements of highlighted matrix"
   ]
  },
  {
   "cell_type": "code",
   "execution_count": null,
   "id": "60975a13",
   "metadata": {},
   "outputs": [],
   "source": [
    "import numpy as np\n",
    "input_=np.arange(1,21,1)\n",
    "input_=input_.reshape(4,5)\n",
    "for i in input_[2,:3]:\n",
    "    print(i,end=' ')\n",
    "print()\n",
    "for i in input_[1:,3]:\n",
    "    print(i,end=' ')\n",
    "print()\n",
    "for i in input_[2:]:\n",
    "    for j in i:\n",
    "        print(j,end=' ')\n",
    "print()\n",
    "for i in input_[1:3,1:3]:\n",
    "    for j in i:\n",
    "        print(j,end=' ')"
   ]
  },
  {
   "cell_type": "markdown",
   "id": "94993b2e",
   "metadata": {},
   "source": [
    "# Non-Zero elements"
   ]
  },
  {
   "cell_type": "code",
   "execution_count": 6,
   "id": "666ce54f",
   "metadata": {},
   "outputs": [],
   "source": [
    "#Problem Statemnt:\n",
    "#Find indices of non-zero elements from the array [1,2,0,0,4,0] ?\n",
    "#Print the index of non-zero elements."
   ]
  },
  {
   "cell_type": "code",
   "execution_count": null,
   "id": "b1b62e00",
   "metadata": {},
   "outputs": [],
   "source": [
    "import numpy as np\n",
    "l=np.array([1,2,0,0,4,0])\n",
    "m=np.where(l!=0)\n",
    "#print(m)\n",
    "for j in m:\n",
    "    for i in j:\n",
    "        print(i ,end=' ')"
   ]
  },
  {
   "cell_type": "markdown",
   "id": "553ab5da",
   "metadata": {},
   "source": [
    "# Multiples of 3"
   ]
  },
  {
   "cell_type": "code",
   "execution_count": 7,
   "id": "f2706c28",
   "metadata": {},
   "outputs": [],
   "source": [
    "#Problem Statement:\n",
    "#Given an integer array of size 10. Print the index of elements which are multiple of 3.\n",
    "#Note: Generate the following array\n",
    "#array([ 1,  3,  5,  7,  9, 11, 13, 15, 17, 19])\n",
    "#Print the index of elements.\n"
   ]
  },
  {
   "cell_type": "code",
   "execution_count": null,
   "id": "f32d2d0d",
   "metadata": {},
   "outputs": [],
   "source": [
    "import numpy as np\n",
    "l=np.array([ 1,  3,  5,  7,  9, 11, 13, 15, 17, 19])\n",
    "k=np.where(l%3==0)\n",
    "for i in k:\n",
    "    for j in i:\n",
    "        print(j,end=' ')"
   ]
  },
  {
   "cell_type": "markdown",
   "id": "937d461f",
   "metadata": {},
   "source": [
    "# Odd elements"
   ]
  },
  {
   "cell_type": "code",
   "execution_count": 8,
   "id": "06efd7ea",
   "metadata": {},
   "outputs": [],
   "source": [
    "#Problem Statemnt:\n",
    "#Given an integer array of size 10. Replace the odd number in numpy array with -1 ?\n",
    "#Note: Generate the following array\n",
    "#array([1, 2, 3, 4, 5, 6, 7, 8, 9, 10])\n",
    "#Print the Numpy array."
   ]
  },
  {
   "cell_type": "code",
   "execution_count": null,
   "id": "23a0bf5d",
   "metadata": {},
   "outputs": [],
   "source": [
    "import numpy as np\n",
    "l=np.array([1, 2, 3, 4, 5, 6, 7, 8, 9, 10])\n",
    "l[l%2!=0]=-1\n",
    "\n",
    "for i in l:\n",
    "    print(i,end=' ')"
   ]
  },
  {
   "cell_type": "markdown",
   "id": "ae442336",
   "metadata": {},
   "source": [
    "# Replace Max"
   ]
  },
  {
   "cell_type": "code",
   "execution_count": null,
   "id": "2db6708d",
   "metadata": {},
   "outputs": [],
   "source": [
    "#Problem Statemnt:\n",
    "#Given an integer array of size 9 and replace the first occurrence of maximum value by 0?\n",
    "#Note: Generate the following array\n",
    "#array([11, 2, 13, 4, 15, 6, 27, 8, 19])\n",
    "#Print the Numpy array."
   ]
  },
  {
   "cell_type": "code",
   "execution_count": null,
   "id": "a310ea0c",
   "metadata": {},
   "outputs": [],
   "source": [
    "import numpy as np\n",
    "l=np.array([11, 2, 13, 4, 15, 6, 27, 8, 19])\n",
    "l[np.argmax(l)]=0\n",
    "for i in l:\n",
    "    print(i)"
   ]
  },
  {
   "cell_type": "markdown",
   "id": "23abeeea",
   "metadata": {},
   "source": [
    "# Negate Elements"
   ]
  },
  {
   "cell_type": "code",
   "execution_count": 9,
   "id": "6ac5e434",
   "metadata": {},
   "outputs": [],
   "source": [
    "#Problem Statemnt:\n",
    "#Given a 1D array, negate all elements which are between 3 and 8 (both inclusive)?\n",
    "#Note: Generate the following array\n",
    "#array([1, 2, 3, 4, 5, 6, 7, 8, 9, 10])\n",
    "#Print the Numpy array."
   ]
  },
  {
   "cell_type": "code",
   "execution_count": null,
   "id": "4f7ded5a",
   "metadata": {},
   "outputs": [],
   "source": [
    "import numpy as np\n",
    "arr=np.array([1, 2, 3, 4, 5, 6, 7, 8, 9, 10])\n",
    "arr[(arr>=3)&(arr<=8)]*=-1\n",
    "for i in arr:\n",
    "    print(i)"
   ]
  },
  {
   "cell_type": "markdown",
   "id": "8f78be02",
   "metadata": {},
   "source": [
    "# Height"
   ]
  },
  {
   "cell_type": "code",
   "execution_count": 10,
   "id": "80fc559a",
   "metadata": {},
   "outputs": [],
   "source": [
    "#Problem Statemnt:\n",
    "#Given age and height of 20 students in two different numpy arrays with name age and height (in cms). Print the age of those students whose height is above 155 cm.\n",
    "#Print the Numpy array."
   ]
  },
  {
   "cell_type": "code",
   "execution_count": null,
   "id": "78741dc7",
   "metadata": {},
   "outputs": [],
   "source": [
    "import numpy as np\n",
    "age=np.array([15,17,19,20,14,21,16,19,13,20,22,23,21,16,18,19,20,15,17,18])\n",
    "height=np.array([156,144,180,162,152,157,154,155,151,150,158,179,126,182,183,154,159,160,172,149])\n",
    "l=height > 155\n",
    "k1=age[l]\n",
    "k2=height[l]\n",
    "\n",
    "for i in range(len(k1)):\n",
    "    print(k1[i],k2[i])"
   ]
  },
  {
   "cell_type": "markdown",
   "id": "c3f17ad2",
   "metadata": {},
   "source": [
    "# Sort by column"
   ]
  },
  {
   "cell_type": "code",
   "execution_count": null,
   "id": "7d98d5a6",
   "metadata": {},
   "outputs": [],
   "source": [
    "#Problem Statemnt:\n",
    "#Sort a given 2D array of shape (4, 5) by 2nd column (i.e. column at index 1) in ascending order.\n",
    "#That means, we should re-arrange complete row based on 2nd columns' values.\n",
    "#Given 2D array is:\n",
    "# [[21 20 19 18 17]\n",
    "#  [16 15 14 13 12]\n",
    "#  [11 10  9  8  7]\n",
    "#  [ 6  5  4  3  2]]\n",
    "#Print the 2D array in sorted order.\n",
    "#Note you have to generate the 2D Array.Here 2nd column means column present at index 1."
   ]
  },
  {
   "cell_type": "code",
   "execution_count": null,
   "id": "d1c836ce",
   "metadata": {},
   "outputs": [],
   "source": [
    "import numpy  as np\n",
    "l=np.array( [[21 ,20, 19, 18, 17],\n",
    "  [16 ,15 ,14 ,13 ,12],\n",
    "  [11 ,10,  9 , 8 , 7],\n",
    "  [ 6  ,5  ,4  ,3  ,2]])\n",
    "k=np.sort(l,axis=0)\n",
    "print(k)"
   ]
  },
  {
   "cell_type": "markdown",
   "id": "410cf114",
   "metadata": {},
   "source": [
    "# Killed in USA"
   ]
  },
  {
   "cell_type": "code",
   "execution_count": 11,
   "id": "49263d0c",
   "metadata": {},
   "outputs": [],
   "source": [
    "#Given file \"terrorismData.csv\"\n",
    "#It is an open-source database including information on terrorist attacks around the world from 1970 through 2017. This dataset includes systematic data on domestic as well as international terrorist incidents that have occurred during this time period\n",
    "#Problem Statement :\n",
    "#Find value of killed column only where country == ‘United States’?\n",
    "#Print 0 in place of missing values.\n",
    "#Print count of Killed as integer value."
   ]
  },
  {
   "cell_type": "code",
   "execution_count": null,
   "id": "33504876",
   "metadata": {},
   "outputs": [],
   "source": [
    "import numpy as np\n",
    "import csv\n",
    "l=open('terrorismData.csv','r')\n",
    "file=csv.DictReader(l,skipinitialspace=True)\n",
    "a=[]\n",
    "b=[]\n",
    "for i in file:\n",
    "    a.append(i['Country'])\n",
    "    b.append(i['Killed'])\n",
    "country=np.array(a)\n",
    "kill=np.array(b)\n",
    "L=country=='United States'\n",
    "kill[kill=='']='0.0'\n",
    "kill=np.array(kill,dtype=float)\n",
    "kill=np.array(kill,dtype=int)\n",
    "res1=kill[L]\n",
    "res2=country[L]\n",
    "for i in res1:\n",
    "    print(i)\n"
   ]
  },
  {
   "cell_type": "markdown",
   "id": "c735f1cf",
   "metadata": {},
   "source": [
    "# Total Killed in USA"
   ]
  },
  {
   "cell_type": "code",
   "execution_count": 12,
   "id": "f93e1f08",
   "metadata": {},
   "outputs": [],
   "source": [
    "#Given file \"terrorismData.csv\"\n",
    "#It is an open-source database including information on terrorist attacks around the world from 1970 through 2017. This dataset includes systematic data on domestic as well as international terrorist incidents that have occurred during this time period\n",
    "#Problem Statement :\n",
    "#Find total number of people killed from USA?\n",
    "#Note: Some columns of killed are empty so replace them by 0.\n",
    "#Print count of Killed as integer value."
   ]
  },
  {
   "cell_type": "code",
   "execution_count": null,
   "id": "92f3e7dd",
   "metadata": {},
   "outputs": [],
   "source": [
    "import numpy as np\n",
    "import csv\n",
    "\n",
    "file=open(\"terrorismData.csv\")\n",
    "data=csv.DictReader(file,skipinitialspace=True)\n",
    "killed=[]\n",
    "country=[]\n",
    "\n",
    "for row in data:\n",
    "    killed.append(row['Killed'])\n",
    "    country.append(row['Country'])\n",
    "    \n",
    "np_killed=np.array(killed)\n",
    "np_killed[np_killed=='']='0.0'\n",
    "\n",
    "np_killed=np.array(np_killed,dtype=float)\n",
    "np_country=np.array(country)\n",
    "b=np_country=='United States'\n",
    "ans=np_killed[b]\n",
    "\n",
    "print(int(np.sum(ans)))"
   ]
  }
 ],
 "metadata": {
  "kernelspec": {
   "display_name": "Python 3 (ipykernel)",
   "language": "python",
   "name": "python3"
  },
  "language_info": {
   "codemirror_mode": {
    "name": "ipython",
    "version": 3
   },
   "file_extension": ".py",
   "mimetype": "text/x-python",
   "name": "python",
   "nbconvert_exporter": "python",
   "pygments_lexer": "ipython3",
   "version": "3.9.12"
  }
 },
 "nbformat": 4,
 "nbformat_minor": 5
}
