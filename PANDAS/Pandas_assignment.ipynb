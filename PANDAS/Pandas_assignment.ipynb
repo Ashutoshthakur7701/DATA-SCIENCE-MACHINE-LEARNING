{
 "cells": [
  {
   "cell_type": "markdown",
   "id": "d2d9242c",
   "metadata": {},
   "source": [
    "# Terror Attack City"
   ]
  },
  {
   "cell_type": "code",
   "execution_count": null,
   "id": "8a40f180",
   "metadata": {},
   "outputs": [],
   "source": [
    "import pandas as pd   \n",
    "df=pd.read_csv(r\"terrorismData.csv\")\n",
    "df=df[df.State=='Jammu and Kashmir']\n",
    "df=df[df.City==df.City.describe().top]\n",
    "count=df.shape[0]\n",
    "df=df[df.Group!='Unknown']\n",
    "city=df.City.describe().top\n",
    "group=df.Group.describe().top\n",
    "print(city, count, group)"
   ]
  },
  {
   "cell_type": "markdown",
   "id": "5b4523a3",
   "metadata": {},
   "source": [
    "# Terror Government"
   ]
  },
  {
   "cell_type": "code",
   "execution_count": null,
   "id": "733b050e",
   "metadata": {},
   "outputs": [],
   "source": [
    "## Print the required output in given format\n",
    "import pandas as pd   \n",
    "df=pd.read_csv(r\"terrorismData.csv\")\n",
    "a=df[df.Day>=26]\n",
    "b=a[a.Year==2014]\n",
    "c=b[b.Country=='India']\n",
    "ans1=c[c.Month==5]\n",
    "del a\n",
    "del b\n",
    "del c\n",
    "a=df[df.Year==2014]\n",
    "b=a[a.Country=='India']\n",
    "ans2=b[b.Month>5]\n",
    "del a\n",
    "del b\n",
    "a=df[df.Country=='India']\n",
    "ans3=a[a.Year>2014]\n",
    "count=ans1.shape[0]+ans2.shape[0]+ans3.shape[0]\n",
    "print(count, end=' ')\n",
    "ans1=ans1[ans1.Group!='Unknown']\n",
    "ans2=ans2[ans2.Group!='Unknown']\n",
    "ans3=ans3[ans3.Group!='Unknown']\n",
    "print(ans3.Group.describe().top)"
   ]
  },
  {
   "cell_type": "markdown",
   "id": "9cb3bc24",
   "metadata": {},
   "source": [
    "# Terror Frequency"
   ]
  },
  {
   "cell_type": "code",
   "execution_count": null,
   "id": "4e9ee91a",
   "metadata": {},
   "outputs": [],
   "source": [
    "## Print the required output in given format\n",
    "## Open and read data file as specified in the question\n",
    "## Print the required output in given formatyear=len(set(df_terrorism['Year']))\n",
    "import pandas as pd \n",
    "import numpy as np\n",
    "df_terrorism=pd.read_csv(r\"terrorismData.csv\")\n",
    "year=len(set(df_terrorism['Year']))\n",
    "\n",
    "df_terrorism=df_terrorism[df_terrorism['Country']=='India']\n",
    "\n",
    "df_terrorism['Casualty']=df_terrorism['Killed']+df_terrorism['Wounded']\n",
    "\n",
    "Jammu_state=df_terrorism[df_terrorism['State']=='Jammu and Kashmir']\n",
    "\n",
    "red_state=df_terrorism[(df_terrorism['State']=='Jharkhand')|(df_terrorism['State']=='Odisha')\n",
    "                       |(df_terrorism['State']=='Andhra Pradesh')|(df_terrorism['State']=='Chhattisgarh')]\n",
    "\n",
    "red_casualty=int(np.sum(red_state['Casualty']))\n",
    "\n",
    "Jammu_casualty=int(np.sum(Jammu_state['Casualty']))\n",
    "\n",
    "print(red_casualty//year,Jammu_casualty//year)"
   ]
  },
  {
   "cell_type": "markdown",
   "id": "976e7b8c",
   "metadata": {},
   "source": [
    "# Terror DeadliestAttack"
   ]
  },
  {
   "cell_type": "code",
   "execution_count": null,
   "id": "006e183f",
   "metadata": {},
   "outputs": [],
   "source": [
    "## Open and read data file as specified in the question\n",
    "## Print the required output in given format\n",
    "import pandas as pd \n",
    "import numpy as np\n",
    "df=pd.read_csv(r\"terrorismData.csv\")\n",
    "df=df[df.Killed==df.Killed.max()]\n",
    "killed=df.Killed.iloc[0]\n",
    "country=df.Country.iloc[0]\n",
    "group=df.Group.iloc[0]\n",
    "print(int(killed), country, group)"
   ]
  },
  {
   "cell_type": "markdown",
   "id": "7abe3f8c",
   "metadata": {},
   "source": [
    "# Terror Attack"
   ]
  },
  {
   "cell_type": "code",
   "execution_count": null,
   "id": "5c72739a",
   "metadata": {},
   "outputs": [],
   "source": [
    "# Open and read data file as specified in the question\n",
    "## Print the required output in given format\n",
    "import pandas as pd \n",
    "import numpy as np\n",
    "df=pd.read_csv(r\"terrorismData.csv\")\n",
    "df=df[df.Country==df.Country.describe().top]\n",
    "count=df.shape[0]\n",
    "country=df.Country.describe().top\n",
    "y={}\n",
    "for i in df.Year:\n",
    "    if i in y.keys():\n",
    "        y[i]+=1\n",
    "    else:\n",
    "        y[i]=1\n",
    "cnt=0\n",
    "year=0\n",
    "for i in y.keys():\n",
    "    if cnt<y[i]:\n",
    "        cnt=y[i]\n",
    "        year=i\n",
    "print(country, count, year)"
   ]
  },
  {
   "cell_type": "code",
   "execution_count": null,
   "id": "64a735e8",
   "metadata": {},
   "outputs": [],
   "source": []
  }
 ],
 "metadata": {
  "kernelspec": {
   "display_name": "Python 3 (ipykernel)",
   "language": "python",
   "name": "python3"
  },
  "language_info": {
   "codemirror_mode": {
    "name": "ipython",
    "version": 3
   },
   "file_extension": ".py",
   "mimetype": "text/x-python",
   "name": "python",
   "nbconvert_exporter": "python",
   "pygments_lexer": "ipython3",
   "version": "3.9.12"
  }
 },
 "nbformat": 4,
 "nbformat_minor": 5
}
