{
 "cells": [
  {
   "cell_type": "markdown",
   "id": "e633066b",
   "metadata": {},
   "source": [
    "# For f500 dataset - Read and Print"
   ]
  },
  {
   "cell_type": "code",
   "execution_count": null,
   "id": "24657abd",
   "metadata": {},
   "outputs": [],
   "source": [
    "import pandas as pd\n",
    "import numpy as np\n",
    "df=pd.read_csv(\"f500.csv\")\n",
    "print(df.shape)"
   ]
  },
  {
   "cell_type": "markdown",
   "id": "b276bd64",
   "metadata": {},
   "source": [
    "# For f500 dataset - Datatypes"
   ]
  },
  {
   "cell_type": "code",
   "execution_count": null,
   "id": "8089102d",
   "metadata": {},
   "outputs": [],
   "source": [
    "import pandas as pd\n",
    "df=pd.read_csv('f500.csv')\n",
    "df1=df.dtypes\n",
    "print(df1)"
   ]
  },
  {
   "cell_type": "markdown",
   "id": "9f052ccf",
   "metadata": {},
   "source": [
    "# For f500 dataset - Describe"
   ]
  },
  {
   "cell_type": "code",
   "execution_count": null,
   "id": "6b29a9eb",
   "metadata": {},
   "outputs": [],
   "source": [
    "import numpy as np\n",
    "import pandas as pd\n",
    "\n",
    "df=pd.read_csv(\"f500.csv\")\n",
    "s=df.describe().profit\n",
    "print(s)"
   ]
  },
  {
   "cell_type": "markdown",
   "id": "67f7b08e",
   "metadata": {},
   "source": [
    "# Count of Flower"
   ]
  },
  {
   "cell_type": "code",
   "execution_count": null,
   "id": "f993d2cd",
   "metadata": {},
   "outputs": [],
   "source": [
    "import numpy as np\n",
    "import pandas as pd\n",
    "\n",
    "df=pd.read_csv(\"f500.csv\")\n",
    "s=df.describe().profit\n",
    "print(s)"
   ]
  },
  {
   "cell_type": "markdown",
   "id": "930eeebd",
   "metadata": {},
   "source": [
    "# Iris Virginica"
   ]
  },
  {
   "cell_type": "code",
   "execution_count": null,
   "id": "d601037f",
   "metadata": {},
   "outputs": [],
   "source": [
    "## Print the required output in given format\n",
    "import pandas as pd   \n",
    "df=pd.read_csv('https://files.codingninjas.in/iris-8116.csv?_ga=2.147866740.234039453.1659624921-456271772.1655977586')\n",
    "\n",
    "df = df[(df.variety == 'Iris-virginica') & (df['petal.length']>1.5)]\n",
    "for i in df.values:\n",
    "    print(i[0],i[1],i[2],i[3],i[4])"
   ]
  },
  {
   "cell_type": "markdown",
   "id": "728668f5",
   "metadata": {},
   "source": [
    "# For f500 dataset - Top 5"
   ]
  },
  {
   "cell_type": "code",
   "execution_count": null,
   "id": "b1fb4e6b",
   "metadata": {},
   "outputs": [],
   "source": [
    "import pandas as pd\n",
    "df = pd.read_csv('f500.csv')\n",
    "print(df[\"country\"].value_counts()[0:5])"
   ]
  },
  {
   "cell_type": "markdown",
   "id": "75afd77c",
   "metadata": {},
   "source": [
    "# For f500 dataset - Selected Rows and Columns"
   ]
  },
  {
   "cell_type": "code",
   "execution_count": null,
   "id": "edb68b85",
   "metadata": {},
   "outputs": [],
   "source": [
    "import pandas as pd\n",
    "df=pd.read_csv(\"f500.csv\",index_col=False)\n",
    "\n",
    "print(df.iloc[0:5,0:3])"
   ]
  },
  {
   "cell_type": "markdown",
   "id": "279c1fef",
   "metadata": {},
   "source": [
    "# Iris Values"
   ]
  },
  {
   "cell_type": "code",
   "execution_count": null,
   "id": "ab77cb00",
   "metadata": {},
   "outputs": [],
   "source": [
    "## Open and read data file as specified in the question\n",
    "## Print the required output in given format\n",
    "import pandas as pd   \n",
    "data_file=pd.read_csv('https://archive.ics.uci.edu/ml/machine-learning-databases/iris/iris.data',header=None)\n",
    "data_file.columns = ['sl', 'sw', 'pl', 'pw', 'flower_type']\n",
    "\n",
    "for n in ['Iris-setosa','Iris-versicolor','Iris-virginica']:\n",
    "    file=data_file[data_file.flower_type==n]\n",
    "    data=file.describe()\n",
    "    data.loc['avg']=[sum(file.sl)/50.0,sum(file.sw)/50.0,sum(file.pl)/50.0,sum(file.pw)/50.0]\n",
    "    \n",
    "    for i in ['min','max','avg']:\n",
    "        for j in ['sl','sw','pl','pw']:\n",
    "            print('%.2f'%data[j][i],end=\" \")\n",
    "        print(n)"
   ]
  },
  {
   "cell_type": "markdown",
   "id": "3194feaf",
   "metadata": {},
   "source": [
    "# Select the rows with NaN values"
   ]
  },
  {
   "cell_type": "code",
   "execution_count": null,
   "id": "9230970c",
   "metadata": {},
   "outputs": [],
   "source": [
    "import numpy as np\n",
    "import pandas as pd\n",
    "\n",
    "data = {'animal': ['cat', 'cat', 'snake', 'dog', 'dog', 'cat', 'snake', 'cat', 'dog', 'dog'],\n",
    "        'age': [2.5, 3, 0.5, np.nan, 5, 2, 4.5, np.nan, 7, 3],\n",
    "        'visits': [1, 3, 2, 3, 2, 3, 1, 1, 2, 1],\n",
    "        'priority': ['yes', 'yes', 'no', 'yes', 'no', 'no', 'no', 'yes', 'no', 'no']}\n",
    "\n",
    "labels = ['a', 'b', 'c', 'd', 'e', 'f', 'g', 'h', 'i', 'j']\n",
    "\n",
    "df = pd.DataFrame(data, index=labels)\n",
    "print(len(df[df[\"age\"].isna()]))"
   ]
  },
  {
   "cell_type": "code",
   "execution_count": null,
   "id": "2159f19f",
   "metadata": {},
   "outputs": [],
   "source": []
  }
 ],
 "metadata": {
  "kernelspec": {
   "display_name": "Python 3 (ipykernel)",
   "language": "python",
   "name": "python3"
  },
  "language_info": {
   "codemirror_mode": {
    "name": "ipython",
    "version": 3
   },
   "file_extension": ".py",
   "mimetype": "text/x-python",
   "name": "python",
   "nbconvert_exporter": "python",
   "pygments_lexer": "ipython3",
   "version": "3.9.12"
  }
 },
 "nbformat": 4,
 "nbformat_minor": 5
}
