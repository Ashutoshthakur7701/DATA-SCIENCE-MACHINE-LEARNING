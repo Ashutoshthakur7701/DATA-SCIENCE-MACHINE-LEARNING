{
 "cells": [
  {
   "cell_type": "markdown",
   "id": "d444690b",
   "metadata": {},
   "source": [
    "# Using Decision Trees on Iris Dataset"
   ]
  },
  {
   "cell_type": "code",
   "execution_count": null,
   "id": "9b98c846",
   "metadata": {},
   "outputs": [],
   "source": [
    "#Using the iris dataset provided in the sklearn toy datasets library, model a decision tree algorithm that is trained on this dataset. After fitting the algorithm on the training dataset, predict the values using the test dataset.\n",
    "#After that print the confusion matrix for the predicted test dataset.\n",
    "#Note: Use randomstate=42 for traintest_split.\n",
    "#Print the confusion matrix for the predicted test dataset"
   ]
  },
  {
   "cell_type": "code",
   "execution_count": null,
   "id": "4aca45b7",
   "metadata": {},
   "outputs": [],
   "source": [
    "from sklearn.model_selection import train_test_split\n",
    "from sklearn import datasets\n",
    "from sklearn.tree import DecisionTreeClassifier\n",
    "from sklearn.metrics import confusion_matrix as cm\n",
    "\n",
    "iris = datasets.load_iris()\n",
    "X = iris[\"data\"]\n",
    "Y = iris[\"target\"]\n",
    "\n",
    "X_train,X_test, Y_train, Y_test = train_test_split(X,Y,random_state = 42)\n",
    "\n",
    "clf = DecisionTreeClassifier()\n",
    "clf.fit(X_train,Y_train)\n",
    "Y_pred = clf.predict(X_test)\n",
    "print(cm(Y_test,Y_pred))"
   ]
  }
 ],
 "metadata": {
  "kernelspec": {
   "display_name": "Python 3 (ipykernel)",
   "language": "python",
   "name": "python3"
  },
  "language_info": {
   "codemirror_mode": {
    "name": "ipython",
    "version": 3
   },
   "file_extension": ".py",
   "mimetype": "text/x-python",
   "name": "python",
   "nbconvert_exporter": "python",
   "pygments_lexer": "ipython3",
   "version": "3.9.12"
  }
 },
 "nbformat": 4,
 "nbformat_minor": 5
}
