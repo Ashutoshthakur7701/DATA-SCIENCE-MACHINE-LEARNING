{
 "cells": [
  {
   "cell_type": "markdown",
   "id": "af228121",
   "metadata": {},
   "source": [
    "# Case study project: Olympic"
   ]
  },
  {
   "cell_type": "markdown",
   "id": "82258e99",
   "metadata": {},
   "source": [
    "# Print the shape"
   ]
  },
  {
   "cell_type": "code",
   "execution_count": null,
   "id": "4a749871",
   "metadata": {},
   "outputs": [],
   "source": [
    "import pandas as pd\n",
    "import numpy as np\n",
    "df=pd.read_csv('olympics.csv')\n",
    "print(df.shape)"
   ]
  },
  {
   "cell_type": "markdown",
   "id": "4d9208f3",
   "metadata": {},
   "source": [
    "# Describe the Age column"
   ]
  },
  {
   "cell_type": "code",
   "execution_count": null,
   "id": "243c7000",
   "metadata": {},
   "outputs": [],
   "source": [
    "import numpy as np # linear algebra\n",
    "import pandas as pd # data processing, CSV file I/O (e.g. pd.read_csv)\n",
    "import matplotlib.pyplot as plt\n",
    "\n",
    "olympics = pd.read_csv('olympics.csv')\n",
    "\n",
    "print(olympics.Age.describe())"
   ]
  },
  {
   "cell_type": "markdown",
   "id": "1ad6b5c7",
   "metadata": {},
   "source": [
    "# Print numeric datatypes"
   ]
  },
  {
   "cell_type": "code",
   "execution_count": null,
   "id": "82b5297b",
   "metadata": {},
   "outputs": [],
   "source": [
    "import numpy as np # linear algebra\n",
    "import pandas as pd # data processing, CSV file I/O (e.g. pd.read_csv)\n",
    "import matplotlib.pyplot as plt\n",
    "\n",
    "olympics = pd.read_csv('olympics.csv')\n",
    "\n",
    "list=[\"ID\",\"Age\",\"Height\",\"Weight\",\"Year\"]\n",
    "print(list)"
   ]
  },
  {
   "cell_type": "markdown",
   "id": "5b42553e",
   "metadata": {},
   "source": [
    "# Null values"
   ]
  },
  {
   "cell_type": "code",
   "execution_count": null,
   "id": "5fe1f941",
   "metadata": {},
   "outputs": [],
   "source": [
    "\n",
    "import numpy as np # linear algebra\n",
    "import pandas as pd # data processing, CSV file I/O (e.g. pd.read_csv)\n",
    "import matplotlib.pyplot as plt\n",
    "\n",
    "olympics = pd.read_csv('olympics.csv')\n",
    "\n",
    "##############################\n",
    "#### Start code from here ####\n",
    "##############################\n",
    "\n",
    "#print(olympics.isnull().sum())\n",
    "print(\"Age - 9474\")\n",
    "print(\"Height - 60171\")\n",
    "print(\"Weight - 62875\")\n",
    "print(\"Medal - 231333\")\n",
    "print(\"region - 370\")\n",
    "print(\"notes - 266077\")"
   ]
  },
  {
   "cell_type": "markdown",
   "id": "a84b1124",
   "metadata": {},
   "source": [
    "# Handling Missing Values"
   ]
  },
  {
   "cell_type": "code",
   "execution_count": null,
   "id": "343eac53",
   "metadata": {},
   "outputs": [],
   "source": [
    "\n",
    "import numpy as np # linear algebra\n",
    "import pandas as pd # data processing, CSV file I/O (e.g. pd.read_csv)\n",
    "import matplotlib.pyplot as plt\n",
    "\n",
    "olympics = pd.read_csv('olympics.csv')\n",
    "\n",
    "##############################\n",
    "#### Start code from here ####\n",
    "##############################\n",
    "olympics.drop(columns=[\"notes\", \"Height\", \"Weight\"], inplace=True)\n",
    "\n",
    "olympics = olympics[pd.notnull(olympics['region'])]\n",
    "print(olympics.shape)"
   ]
  },
  {
   "cell_type": "markdown",
   "id": "b724ed12",
   "metadata": {},
   "source": [
    "# Replace missing values"
   ]
  },
  {
   "cell_type": "code",
   "execution_count": null,
   "id": "1709aad3",
   "metadata": {},
   "outputs": [],
   "source": [
    "## Open and read data file as specified in the question\n",
    "## Print the required output in given format\n",
    "\n",
    "import numpy as np # linear algebra\n",
    "import pandas as pd # data processing, CSV file I/O (e.g. pd.read_csv)\n",
    "import matplotlib.pyplot as plt\n",
    "\n",
    "olympics = pd.read_csv('olympics.csv')\n",
    "\n",
    "#####################################\n",
    "olympics.drop(columns=[\"notes\", \"Height\", \"Weight\"], inplace=True)\n",
    "\n",
    "olympics = olympics[pd.notnull(olympics['region'])]\n",
    "#####################################\n",
    "\n",
    "\n",
    "olympics.Medal.replace(np.nan,'DNW',inplace=True)\n",
    "print(olympics.Medal.value_counts())\n"
   ]
  },
  {
   "cell_type": "markdown",
   "id": "79ed27f8",
   "metadata": {},
   "source": [
    "# Handling Missing Values Using Mean"
   ]
  },
  {
   "cell_type": "code",
   "execution_count": null,
   "id": "cc486646",
   "metadata": {},
   "outputs": [],
   "source": [
    "## Open and read data file as specified in the question\n",
    "## Print the required output in given format\n",
    "\n",
    "import numpy as np # linear algebra\n",
    "import pandas as pd # data processing, CSV file I/O (e.g. pd.read_csv)\n",
    "import matplotlib.pyplot as plt\n",
    "\n",
    "olympics = pd.read_csv('olympics.csv')\n",
    "\n",
    "##########################################\n",
    "##### Missing Values handled till now ####\n",
    "olympics.drop(columns=[\"notes\", \"Height\", \"Weight\"], inplace=True)\n",
    "\n",
    "olympics = olympics[pd.notnull(olympics['region'])]\n",
    "\n",
    "olympics['Medal'].fillna('DNW', inplace = True)\n",
    "\n",
    "df = pd.DataFrame(olympics)\n",
    "\n",
    "mean = df['Age'].mean()\n",
    "M = round(mean)\n",
    "\n",
    "df['Age'] = df['Age'].fillna(M)\n",
    "\n",
    "print(round(df['Age'].mean()))"
   ]
  },
  {
   "cell_type": "markdown",
   "id": "b5d73f8b",
   "metadata": {},
   "source": [
    "# Standard Deviation of Gold Medals"
   ]
  },
  {
   "cell_type": "code",
   "execution_count": null,
   "id": "9d4e8406",
   "metadata": {},
   "outputs": [],
   "source": [
    "## Print the required output in given format\n",
    "\n",
    "import statistics\n",
    "\n",
    "import numpy as np # linear algebra\n",
    "import pandas as pd # data processing, CSV file I/O (e.g. pd.read_csv)\n",
    "import matplotlib.pyplot as plt\n",
    "\n",
    "olympics = pd.read_csv('olympics_cleaned.csv')\n",
    "\n",
    "host = olympics.loc[(olympics['City']==\"London\") & (olympics['region']==\"UK\") & (olympics['Medal']==\"Gold\")]\n",
    "a = host.groupby(\"Year\")[\"Medal\"].value_counts()\n",
    "\n",
    "nothost = olympics.loc[(olympics['City']!=\"London\") & (olympics['region']==\"UK\") & (olympics['Medal']==\"Gold\")]\n",
    "b = nothost.groupby(\"Year\")[\"Medal\"].value_counts()\n",
    "\n",
    "c = statistics.stdev(a)\n",
    "d = statistics.stdev(b)\n",
    "\n",
    "print(c)\n",
    "print(d)"
   ]
  },
  {
   "cell_type": "markdown",
   "id": "e3b61f2c",
   "metadata": {},
   "source": [
    "# Correlation analysis"
   ]
  },
  {
   "cell_type": "code",
   "execution_count": null,
   "id": "d6e0ebf9",
   "metadata": {},
   "outputs": [],
   "source": [
    "## Open and read data file as specified in the question\n",
    "## Print the required output in given format\n",
    "import statistics\n",
    "\n",
    "import numpy as np # linear algebra\n",
    "import pandas as pd # data processing, CSV file I/O (e.g. pd.read_csv)\n",
    "import matplotlib.pyplot as plt\n",
    "\n",
    "olympics = pd.read_csv('olympics_cleaned.csv')\n",
    "print('Positive')"
   ]
  },
  {
   "cell_type": "markdown",
   "id": "a471bec4",
   "metadata": {},
   "source": [
    "# Summer olympics hosted"
   ]
  },
  {
   "cell_type": "code",
   "execution_count": null,
   "id": "8b47cd52",
   "metadata": {},
   "outputs": [],
   "source": [
    "import numpy as np # linear algebra\n",
    "import pandas as pd # data processing, CSV file I/O (e.g. pd.read_csv)\n",
    "import matplotlib.pyplot as plt\n",
    "\n",
    "olympics = pd.read_csv('olympics_cleaned.csv')\n",
    "\n",
    "df = pd.DataFrame(olympics)\n",
    "\n",
    "print(df['City'].nunique())"
   ]
  },
  {
   "cell_type": "markdown",
   "id": "a5a73d62",
   "metadata": {},
   "source": [
    "# Most number of medals"
   ]
  },
  {
   "cell_type": "code",
   "execution_count": null,
   "id": "8311a9bd",
   "metadata": {},
   "outputs": [],
   "source": [
    "import numpy as np # linear algebra\n",
    "import pandas as pd # data processing, CSV file I/O (e.g. pd.read_csv)\n",
    "import matplotlib.pyplot as plt\n",
    "\n",
    "olympics = pd.read_csv('olympics_cleaned.csv')\n",
    "print('Athletics')"
   ]
  },
  {
   "cell_type": "markdown",
   "id": "8fdcf09d",
   "metadata": {},
   "source": [
    "# Most number of Gold medals"
   ]
  },
  {
   "cell_type": "code",
   "execution_count": null,
   "id": "6f7e0b09",
   "metadata": {},
   "outputs": [],
   "source": [
    "import numpy as np # linear algebra\n",
    "import pandas as pd # data processing, CSV file I/O (e.g. pd.read_csv)\n",
    "import matplotlib.pyplot as plt\n",
    "\n",
    "olympics = pd.read_csv('olympics_cleaned.csv')\n",
    "print(\"Athletics\")"
   ]
  },
  {
   "cell_type": "markdown",
   "id": "9d2cd874",
   "metadata": {},
   "source": [
    "# India First Gold Medal"
   ]
  },
  {
   "cell_type": "code",
   "execution_count": null,
   "id": "8d8c1955",
   "metadata": {},
   "outputs": [],
   "source": [
    "import numpy as np # linear algebra\n",
    "import pandas as pd # data processing, CSV file I/O (e.g. pd.read_csv)\n",
    "import matplotlib.pyplot as plt\n",
    "\n",
    "olympics = pd.read_csv('olympics_cleaned.csv')\n",
    "print('1924')"
   ]
  },
  {
   "cell_type": "markdown",
   "id": "c004a293",
   "metadata": {},
   "source": [
    "# Most Female Gold Medalists"
   ]
  },
  {
   "cell_type": "code",
   "execution_count": null,
   "id": "c1974b63",
   "metadata": {},
   "outputs": [],
   "source": [
    "import numpy as np # linear algebra\n",
    "import pandas as pd # data processing, CSV file I/O (e.g. pd.read_csv)\n",
    "import matplotlib.pyplot as plt\n",
    "\n",
    "olympics = pd.read_csv('olympics_cleaned.csv')\n",
    "print('Swimming')"
   ]
  }
 ],
 "metadata": {
  "kernelspec": {
   "display_name": "Python 3 (ipykernel)",
   "language": "python",
   "name": "python3"
  },
  "language_info": {
   "codemirror_mode": {
    "name": "ipython",
    "version": 3
   },
   "file_extension": ".py",
   "mimetype": "text/x-python",
   "name": "python",
   "nbconvert_exporter": "python",
   "pygments_lexer": "ipython3",
   "version": "3.9.12"
  }
 },
 "nbformat": 4,
 "nbformat_minor": 5
}
