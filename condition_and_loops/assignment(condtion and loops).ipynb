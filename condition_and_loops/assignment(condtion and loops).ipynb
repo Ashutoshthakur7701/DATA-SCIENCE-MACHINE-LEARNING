{
 "cells": [
  {
   "cell_type": "markdown",
   "id": "6d707abd",
   "metadata": {},
   "source": [
    "# Calculator"
   ]
  },
  {
   "cell_type": "code",
   "execution_count": 1,
   "id": "5428b18d",
   "metadata": {},
   "outputs": [
    {
     "ename": "IndentationError",
     "evalue": "unexpected indent (2701556162.py, line 10)",
     "output_type": "error",
     "traceback": [
      "\u001b[1;36m  Input \u001b[1;32mIn [1]\u001b[1;36m\u001b[0m\n\u001b[1;33m    if(n==1):\u001b[0m\n\u001b[1;37m    ^\u001b[0m\n\u001b[1;31mIndentationError\u001b[0m\u001b[1;31m:\u001b[0m unexpected indent\n"
     ]
    }
   ],
   "source": [
    "while(True):\n",
    "    n=int(input())\n",
    "    if n==6:\n",
    "        break\n",
    "    if n>6:\n",
    "        print(\"Invalid Operation\")\n",
    "        continue\n",
    "    a=int(input())\n",
    "    b=int(input())\n",
    "     if(n==1):\n",
    "        print(a+b)\n",
    "    elif n==2:\n",
    "        print(a-b)\n",
    "    elif n==3:\n",
    "        print(a*b)\n",
    "    elif n==4:\n",
    "        print(int(a/b))\n",
    "    elif n==5:\n",
    "        print(a%b)"
   ]
  },
  {
   "cell_type": "code",
   "execution_count": null,
   "id": "20c21ab7",
   "metadata": {},
   "outputs": [],
   "source": [
    "while(True):\n",
    "    n=int(input())\n",
    "    if n==6:\n",
    "        break\n",
    "    if n>6:\n",
    "        print(\"Invalid Operation\")\n",
    "        continue\n",
    "    a=int(input())\n",
    "    b=int(input())\n",
    "    if(n==1):\n",
    "        print(a+b)\n",
    "    elif n==2:\n",
    "        print(a-b)\n",
    "    elif n==3:\n",
    "        print(a*b)\n",
    "    elif n==4:\n",
    "        print(int(a/b))\n",
    "    elif n==5:\n",
    "        print(a%b)"
   ]
  },
  {
   "cell_type": "markdown",
   "id": "74404a01",
   "metadata": {},
   "source": [
    "# Reverse number"
   ]
  },
  {
   "cell_type": "code",
   "execution_count": 3,
   "id": "edb5d095",
   "metadata": {},
   "outputs": [
    {
     "name": "stdout",
     "output_type": "stream",
     "text": [
      "123\n",
      "321\n"
     ]
    }
   ],
   "source": [
    "n=input()\n",
    "print(int(n[::-1]))"
   ]
  },
  {
   "cell_type": "markdown",
   "id": "68b18e91",
   "metadata": {},
   "source": [
    "# Palindrome number"
   ]
  },
  {
   "cell_type": "code",
   "execution_count": 4,
   "id": "ccdcba5f",
   "metadata": {},
   "outputs": [
    {
     "name": "stdout",
     "output_type": "stream",
     "text": [
      "123\n",
      "false\n"
     ]
    }
   ],
   "source": [
    "n=input()\n",
    "m=n[::-1]\n",
    "if int(n) == int(m):\n",
    "    print('true')\n",
    "else:\n",
    "\tprint('false')"
   ]
  },
  {
   "cell_type": "markdown",
   "id": "87f28cb8",
   "metadata": {},
   "source": [
    "# Sum of even & odd"
   ]
  },
  {
   "cell_type": "code",
   "execution_count": 7,
   "id": "93a360fc",
   "metadata": {},
   "outputs": [
    {
     "name": "stdout",
     "output_type": "stream",
     "text": [
      "12345\n",
      "6 9\n"
     ]
    }
   ],
   "source": [
    "n=input()\n",
    "even=0\n",
    "odd=0\n",
    "for i in n:\n",
    "    if int(i)%2==0:\n",
    "        even=even+int(i)\n",
    "    else:\n",
    "        odd=odd+int(i)\n",
    "print(even,odd)"
   ]
  },
  {
   "cell_type": "code",
   "execution_count": null,
   "id": "97285ee8",
   "metadata": {},
   "outputs": [],
   "source": []
  }
 ],
 "metadata": {
  "kernelspec": {
   "display_name": "Python 3 (ipykernel)",
   "language": "python",
   "name": "python3"
  },
  "language_info": {
   "codemirror_mode": {
    "name": "ipython",
    "version": 3
   },
   "file_extension": ".py",
   "mimetype": "text/x-python",
   "name": "python",
   "nbconvert_exporter": "python",
   "pygments_lexer": "ipython3",
   "version": "3.9.12"
  }
 },
 "nbformat": 4,
 "nbformat_minor": 5
}
