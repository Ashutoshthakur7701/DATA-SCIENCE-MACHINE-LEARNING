{
 "cells": [
  {
   "cell_type": "markdown",
   "id": "144f8526",
   "metadata": {},
   "source": [
    "# Check for positive integer"
   ]
  },
  {
   "cell_type": "code",
   "execution_count": 1,
   "id": "b9de58af",
   "metadata": {},
   "outputs": [
    {
     "name": "stdout",
     "output_type": "stream",
     "text": [
      "1\n",
      "Number\n"
     ]
    }
   ],
   "source": [
    "n=input()\n",
    "if n.isdigit():\n",
    "    print('Number')\n",
    "else:\n",
    "    print('String')"
   ]
  },
  {
   "cell_type": "markdown",
   "id": "80a12263",
   "metadata": {},
   "source": [
    "# Print whether number is odd or even"
   ]
  },
  {
   "cell_type": "code",
   "execution_count": 2,
   "id": "e85a12d9",
   "metadata": {},
   "outputs": [
    {
     "name": "stdout",
     "output_type": "stream",
     "text": [
      "3\n",
      "Odd\n"
     ]
    }
   ],
   "source": [
    "n=int(input())\n",
    "if n%2==0:\n",
    "    print('Even')\n",
    "else:\n",
    "    print('Odd')"
   ]
  },
  {
   "cell_type": "markdown",
   "id": "57b4ef29",
   "metadata": {},
   "source": [
    "# Divisibility by 3 and 5"
   ]
  },
  {
   "cell_type": "code",
   "execution_count": 3,
   "id": "ad35fc0a",
   "metadata": {},
   "outputs": [
    {
     "name": "stdout",
     "output_type": "stream",
     "text": [
      "5\n",
      "No\n"
     ]
    }
   ],
   "source": [
    "n=int(input())\n",
    "if(n%3==0 and n%5==0):\n",
    "    print(\"Yes\")\n",
    "else:\n",
    "    print(\"No\")"
   ]
  },
  {
   "cell_type": "markdown",
   "id": "85f9d560",
   "metadata": {},
   "source": [
    "# Check number"
   ]
  },
  {
   "cell_type": "code",
   "execution_count": 4,
   "id": "f03f0baf",
   "metadata": {},
   "outputs": [
    {
     "name": "stdout",
     "output_type": "stream",
     "text": [
      "1\n",
      "Positive\n"
     ]
    }
   ],
   "source": [
    "n=int(input())\n",
    "if(n>0):\n",
    "    print(\"Positive\")\n",
    "if(n<0):\n",
    "    print(\"Negative\")\n",
    "if(n==0):\n",
    "    print(\"Zero\")"
   ]
  },
  {
   "cell_type": "markdown",
   "id": "b5b90f11",
   "metadata": {},
   "source": [
    "# Find the largest among the three numbers"
   ]
  },
  {
   "cell_type": "code",
   "execution_count": 5,
   "id": "fbfe5d59",
   "metadata": {},
   "outputs": [
    {
     "name": "stdout",
     "output_type": "stream",
     "text": [
      "1\n",
      "2\n",
      "3\n",
      "3\n"
     ]
    }
   ],
   "source": [
    "a=int(input())\n",
    "b=int(input())\n",
    "c=int(input())\n",
    "print(max(a,b,c))"
   ]
  },
  {
   "cell_type": "markdown",
   "id": "67ee7400",
   "metadata": {},
   "source": [
    "# Nested Conditional Check"
   ]
  },
  {
   "cell_type": "code",
   "execution_count": 6,
   "id": "6584ca0c",
   "metadata": {},
   "outputs": [
    {
     "name": "stdout",
     "output_type": "stream",
     "text": [
      "2\n",
      "“Divisible by 2 but not divisible by 3\n"
     ]
    }
   ],
   "source": [
    "a=int(input())\n",
    "if a%2==0:\n",
    "    if a%3==0:\n",
    "        print(\"Divisible by 2 and 3\")\n",
    "    else:\n",
    "        print(\"“Divisible by 2 but not divisible by 3\")\n",
    "elif a%3==0:\n",
    "    print(\"Divisible by 3 but not divisible by 2\")\n",
    "else:\n",
    "    print(\"Not Divisible by 2 and also not divisible by 3\")"
   ]
  },
  {
   "cell_type": "markdown",
   "id": "4b040220",
   "metadata": {},
   "source": [
    "# Sum of n numbers"
   ]
  },
  {
   "cell_type": "code",
   "execution_count": 7,
   "id": "ed5e7c6f",
   "metadata": {},
   "outputs": [
    {
     "name": "stdout",
     "output_type": "stream",
     "text": [
      "3\n",
      "6\n"
     ]
    }
   ],
   "source": [
    "n=int(input())\n",
    "count=1\n",
    "sum=0\n",
    "while(count<=n):\n",
    "    sum=sum+count\n",
    "    count=count+1\n",
    "\n",
    "print(sum)"
   ]
  },
  {
   "cell_type": "markdown",
   "id": "fa0e0a13",
   "metadata": {},
   "source": [
    "# Sum of Even Numbers"
   ]
  },
  {
   "cell_type": "code",
   "execution_count": 8,
   "id": "31032726",
   "metadata": {},
   "outputs": [
    {
     "name": "stdout",
     "output_type": "stream",
     "text": [
      "4\n",
      "6\n"
     ]
    }
   ],
   "source": [
    "n=int(input())\n",
    "count=0\n",
    "sum=0\n",
    "while(count<=n):\n",
    "    sum=sum+count\n",
    "    count=count+2\n",
    "\n",
    "print(sum)"
   ]
  },
  {
   "cell_type": "markdown",
   "id": "116e0a67",
   "metadata": {},
   "source": [
    "# Prime or not"
   ]
  },
  {
   "cell_type": "code",
   "execution_count": 10,
   "id": "50b2c152",
   "metadata": {},
   "outputs": [
    {
     "name": "stdout",
     "output_type": "stream",
     "text": [
      "5\n",
      "Prime\n"
     ]
    }
   ],
   "source": [
    "n=int(input())\n",
    "d=2\n",
    "flag=False\n",
    "while(d<n):\n",
    "    if(n%d==0):\n",
    "        flag=True\n",
    "    d=d+1   \n",
    "\n",
    "if flag==False:\n",
    "    print(\"Prime\")\n",
    "else:\n",
    "    print(\"Not Prime\")"
   ]
  },
  {
   "cell_type": "markdown",
   "id": "b8fead76",
   "metadata": {},
   "source": [
    "# Fahrenheit to Celsius"
   ]
  },
  {
   "cell_type": "code",
   "execution_count": 11,
   "id": "c9b3b4ad",
   "metadata": {},
   "outputs": [
    {
     "name": "stdout",
     "output_type": "stream",
     "text": [
      "10\n",
      "100\n",
      "20\n",
      "10 -12\n",
      "30 -1\n",
      "50 10\n",
      "70 21\n",
      "90 32\n"
     ]
    }
   ],
   "source": [
    "n=int(input())\n",
    "m=int(input())\n",
    "a=int(input())\n",
    "for i in range(n,m,a):\n",
    "    c=(i-32)*(5/9)\n",
    "    print(i,int(c))"
   ]
  },
  {
   "cell_type": "code",
   "execution_count": 12,
   "id": "6b4e81f2",
   "metadata": {},
   "outputs": [
    {
     "name": "stdout",
     "output_type": "stream",
     "text": [
      "1\n",
      "100\n",
      "2\n",
      "1 -17\n",
      "3 -16\n",
      "5 -15\n",
      "7 -13\n",
      "9 -12\n",
      "11 -11\n",
      "13 -10\n",
      "15 -9\n",
      "17 -8\n",
      "19 -7\n",
      "21 -6\n",
      "23 -5\n",
      "25 -3\n",
      "27 -2\n",
      "29 -1\n",
      "31 0\n",
      "33 0\n",
      "35 1\n",
      "37 2\n",
      "39 3\n",
      "41 5\n",
      "43 6\n",
      "45 7\n",
      "47 8\n",
      "49 9\n",
      "51 10\n",
      "53 11\n",
      "55 12\n",
      "57 13\n",
      "59 15\n",
      "61 16\n",
      "63 17\n",
      "65 18\n",
      "67 19\n",
      "69 20\n",
      "71 21\n",
      "73 22\n",
      "75 23\n",
      "77 25\n",
      "79 26\n",
      "81 27\n",
      "83 28\n",
      "85 29\n",
      "87 30\n",
      "89 31\n",
      "91 32\n",
      "93 33\n",
      "95 35\n",
      "97 36\n",
      "99 37\n"
     ]
    }
   ],
   "source": [
    "s=int(input()) # starting farenhite value\n",
    "f=int(input()) # ending farenhite value\n",
    "w=int(input()) # gap size\n",
    "for i in range(s,f,w):\n",
    "    c=(i-32)*(5/9)\n",
    "    print(i,int(c))"
   ]
  },
  {
   "cell_type": "code",
   "execution_count": 18,
   "id": "fd4dc423",
   "metadata": {},
   "outputs": [
    {
     "name": "stdout",
     "output_type": "stream",
     "text": [
      "121\n",
      "True\n"
     ]
    }
   ],
   "source": [
    "#pallindrome\n",
    "n=(input())\n",
    "m=n[::-1]\n",
    "if(int(n)==int(m)):\n",
    "    print(True)\n",
    "else:\n",
    "    print(False)"
   ]
  },
  {
   "cell_type": "code",
   "execution_count": 19,
   "id": "d35f14a6",
   "metadata": {},
   "outputs": [
    {
     "name": "stdout",
     "output_type": "stream",
     "text": [
      "123456\n",
      "12 9\n"
     ]
    }
   ],
   "source": [
    "#Sum of even & odd\n",
    "n=input()\n",
    "even=0\n",
    "odd=0\n",
    "for i in n:\n",
    "    if(int(i)%2==0):\n",
    "        even=even+int(i)\n",
    "    else:\n",
    "        odd=odd+int(i)\n",
    "print(even,odd)"
   ]
  },
  {
   "cell_type": "markdown",
   "id": "43c817b8",
   "metadata": {},
   "source": [
    "# fibbonacci"
   ]
  },
  {
   "cell_type": "code",
   "execution_count": null,
   "id": "d5a4bb27",
   "metadata": {},
   "outputs": [],
   "source": []
  }
 ],
 "metadata": {
  "kernelspec": {
   "display_name": "Python 3 (ipykernel)",
   "language": "python",
   "name": "python3"
  },
  "language_info": {
   "codemirror_mode": {
    "name": "ipython",
    "version": 3
   },
   "file_extension": ".py",
   "mimetype": "text/x-python",
   "name": "python",
   "nbconvert_exporter": "python",
   "pygments_lexer": "ipython3",
   "version": "3.9.12"
  }
 },
 "nbformat": 4,
 "nbformat_minor": 5
}
