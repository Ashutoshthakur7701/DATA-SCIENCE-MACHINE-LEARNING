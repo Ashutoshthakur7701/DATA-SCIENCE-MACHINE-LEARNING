{
 "cells": [
  {
   "cell_type": "code",
   "execution_count": 1,
   "id": "f0164e1a",
   "metadata": {},
   "outputs": [
    {
     "name": "stdout",
     "output_type": "stream",
     "text": [
      "<class 'bool'>\n"
     ]
    }
   ],
   "source": [
    "a=True\n",
    "b=False\n",
    "print(type(a))"
   ]
  },
  {
   "cell_type": "markdown",
   "id": "70cd39cc",
   "metadata": {},
   "source": [
    "# RELATIONAL OPERATORS"
   ]
  },
  {
   "cell_type": "code",
   "execution_count": 2,
   "id": "edc646c8",
   "metadata": {},
   "outputs": [
    {
     "name": "stdout",
     "output_type": "stream",
     "text": [
      "False\n",
      "True\n",
      "False\n",
      "True\n",
      "False\n",
      "True\n"
     ]
    }
   ],
   "source": [
    "a=10\n",
    "b=20\n",
    "print(a>b)\n",
    "print(a<b)\n",
    "print(a==b)\n",
    "print(a!=b)\n",
    "print(a>=b)\n",
    "print(a<=b)"
   ]
  },
  {
   "cell_type": "markdown",
   "id": "46a8f44e",
   "metadata": {},
   "source": [
    "# LOGICAL OPERATORS"
   ]
  },
  {
   "cell_type": "code",
   "execution_count": 12,
   "id": "2a9e5661",
   "metadata": {},
   "outputs": [
    {
     "name": "stdout",
     "output_type": "stream",
     "text": [
      "False\n",
      "True\n",
      "True\n"
     ]
    }
   ],
   "source": [
    "c1=a>10\n",
    "c2=b>10\n",
    "r1 =c1 and c2\n",
    "r2=c1 or c2\n",
    "r3=not(r1)\n",
    "print(r1)\n",
    "print(r2)\n",
    "print(r3)"
   ]
  },
  {
   "cell_type": "markdown",
   "id": "ff2acdeb",
   "metadata": {},
   "source": [
    "# IF_ELSE"
   ]
  },
  {
   "cell_type": "code",
   "execution_count": 15,
   "id": "15a06bfc",
   "metadata": {},
   "outputs": [
    {
     "name": "stdout",
     "output_type": "stream",
     "text": [
      "i am in if\n",
      "i am tanuj sharma ka code\n"
     ]
    }
   ],
   "source": [
    "a=True\n",
    "if(a):\n",
    "    print(\"i am in if\")\n",
    "    print(\"i am tanuj sharma ka code\")\n",
    "else:\n",
    "    print(\"i am in else\")"
   ]
  },
  {
   "cell_type": "code",
   "execution_count": 14,
   "id": "1c527585",
   "metadata": {},
   "outputs": [
    {
     "name": "stdout",
     "output_type": "stream",
     "text": [
      "i am in false\n"
     ]
    }
   ],
   "source": [
    "a=False\n",
    "if(a):\n",
    "    print(\"i am in if\")\n",
    "else:\n",
    "    print(\"i am in else\")"
   ]
  },
  {
   "cell_type": "code",
   "execution_count": 16,
   "id": "83834f87",
   "metadata": {},
   "outputs": [],
   "source": [
    "# check number to be odd or even"
   ]
  },
  {
   "cell_type": "code",
   "execution_count": 17,
   "id": "2c4916c6",
   "metadata": {},
   "outputs": [
    {
     "name": "stdout",
     "output_type": "stream",
     "text": [
      "3\n",
      "3 is odd number\n"
     ]
    }
   ],
   "source": [
    "n=int(input())\n",
    "if(n%2==0):\n",
    "    print(n,\"is even number\")\n",
    "else:\n",
    "    print(n,\"is odd number\")"
   ]
  },
  {
   "cell_type": "markdown",
   "id": "5946a15a",
   "metadata": {},
   "source": [
    "# check prime"
   ]
  },
  {
   "cell_type": "code",
   "execution_count": 3,
   "id": "5b202cc1",
   "metadata": {},
   "outputs": [
    {
     "name": "stdout",
     "output_type": "stream",
     "text": [
      "19\n",
      "Prime\n"
     ]
    }
   ],
   "source": [
    "n=int(input())\n",
    "d=2\n",
    "flag=False\n",
    "while(d<n):\n",
    "    if(n%d==0):\n",
    "        flag=True\n",
    "    d=d+1\n",
    "if flag:\n",
    "    print(\"Not prime\")\n",
    "else:\n",
    "    print(\"Prime\")"
   ]
  },
  {
   "cell_type": "code",
   "execution_count": 4,
   "id": "4029ff83",
   "metadata": {},
   "outputs": [],
   "source": [
    "# celcuis and farenhite conversion"
   ]
  },
  {
   "cell_type": "code",
   "execution_count": 5,
   "id": "6e3088a6",
   "metadata": {},
   "outputs": [
    {
     "name": "stdout",
     "output_type": "stream",
     "text": [
      "1\n",
      "10\n",
      "1\n",
      "1 -17\n",
      "2 -16\n",
      "3 -16\n",
      "4 -15\n",
      "5 -15\n",
      "6 -14\n",
      "7 -13\n",
      "8 -13\n",
      "9 -12\n"
     ]
    }
   ],
   "source": [
    "s=int(input())\n",
    "e=int(input())\n",
    "w=int(input())\n",
    "for i in range(s,e,w):\n",
    "    c=(i-32)*(5/9)\n",
    "    print(i,int(c))"
   ]
  },
  {
   "cell_type": "markdown",
   "id": "e92fd4eb",
   "metadata": {},
   "source": [
    "# Sum of odd and even"
   ]
  },
  {
   "cell_type": "code",
   "execution_count": 6,
   "id": "1bc753a8",
   "metadata": {},
   "outputs": [
    {
     "name": "stdout",
     "output_type": "stream",
     "text": [
      "123456\n",
      "12 9\n"
     ]
    }
   ],
   "source": [
    "n=input()\n",
    "even=0\n",
    "odd=0\n",
    "for i in n:\n",
    "    if int(i)%2==0:\n",
    "        even=even+int(i)\n",
    "    else:\n",
    "        odd=odd+int(i)\n",
    "print(even,odd)"
   ]
  },
  {
   "cell_type": "markdown",
   "id": "1da3c85a",
   "metadata": {},
   "source": [
    "# fibbonacci series"
   ]
  },
  {
   "cell_type": "code",
   "execution_count": 8,
   "id": "bffb97ae",
   "metadata": {},
   "outputs": [
    {
     "name": "stdout",
     "output_type": "stream",
     "text": [
      "6\n",
      "8\n"
     ]
    }
   ],
   "source": [
    "s1=0\n",
    "s2=1\n",
    "s3=1\n",
    "n=int(input())\n",
    "for i in range(n):\n",
    "    s3=s1+s2\n",
    "    s1=s2\n",
    "    s2=s3\n",
    "print(s1)"
   ]
  },
  {
   "cell_type": "code",
   "execution_count": null,
   "id": "8e39d822",
   "metadata": {},
   "outputs": [],
   "source": [
    "\n",
    "    \n",
    "    "
   ]
  },
  {
   "cell_type": "code",
   "execution_count": null,
   "id": "53f995e7",
   "metadata": {},
   "outputs": [],
   "source": []
  }
 ],
 "metadata": {
  "kernelspec": {
   "display_name": "Python 3 (ipykernel)",
   "language": "python",
   "name": "python3"
  },
  "language_info": {
   "codemirror_mode": {
    "name": "ipython",
    "version": 3
   },
   "file_extension": ".py",
   "mimetype": "text/x-python",
   "name": "python",
   "nbconvert_exporter": "python",
   "pygments_lexer": "ipython3",
   "version": "3.9.12"
  }
 },
 "nbformat": 4,
 "nbformat_minor": 5
}
