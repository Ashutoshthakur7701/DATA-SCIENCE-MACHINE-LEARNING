{
 "cells": [
  {
   "cell_type": "markdown",
   "id": "e90570d4",
   "metadata": {},
   "source": [
    "# Calculate Probability Distribution"
   ]
  },
  {
   "cell_type": "code",
   "execution_count": null,
   "id": "dee3dcc3",
   "metadata": {},
   "outputs": [],
   "source": [
    "from scipy.stats import binom\n",
    "\n",
    "calc_pmf = binom.pmf(k=3, n=10, p=0.16)\n",
    "\n",
    "print(round(calc_pmf, 2))"
   ]
  },
  {
   "cell_type": "markdown",
   "id": "f3975984",
   "metadata": {},
   "source": [
    "# Kind of Skewness"
   ]
  },
  {
   "cell_type": "code",
   "execution_count": null,
   "id": "b8cfe1e8",
   "metadata": {},
   "outputs": [],
   "source": [
    "## Open and read data file as specified in the question\n",
    "## Print the required output in given format\n",
    "a=[586, 760, 495, 678, 559, 415, 370, 659, 119, 288, 241, 787, 522, 207, 160, 526, 656, 848, 720, 676, 581, 929, 653, 661, 770, 800, 529, 975, 995, 947]\n",
    "b=sum(a)/len(a)\n",
    "\n",
    "l=0\n",
    "r=0\n",
    "for i in a:\n",
    "    if i < b:\n",
    "        l+=1\n",
    "    else:\n",
    "        r+=1\n",
    "\n",
    "if l>r:\n",
    "    print(\"Right Skewed\")\n",
    "else:\n",
    "    print(\"Left Skewed\")\n"
   ]
  },
  {
   "cell_type": "markdown",
   "id": "b5baa8b4",
   "metadata": {},
   "source": [
    "# Kind of Skewness"
   ]
  },
  {
   "cell_type": "code",
   "execution_count": null,
   "id": "901df9a8",
   "metadata": {},
   "outputs": [],
   "source": [
    "## Print the required output in given format\n",
    "a=[212, 869, 220, 654, 511, 624, 420, 121, 428, 865, 799, 405, 230, 670, 870, 366, 99, 55, 489, 312, 493, 163, 221, 84, 144, 48, 375, 86, 168, 100]\n",
    "b=sum(a)/len(a)\n",
    "\n",
    "l=0\n",
    "r=0\n",
    "for i in a:\n",
    "    if i < b:\n",
    "        l+=1\n",
    "    else:\n",
    "        r+=1\n",
    "\n",
    "if l>r:\n",
    "    print(\"Right Skewed\")\n",
    "else:\n",
    "    print(\"Left Skewed\")\n"
   ]
  },
  {
   "cell_type": "markdown",
   "id": "214c75f2",
   "metadata": {},
   "source": [
    "# Calculate Z Score"
   ]
  },
  {
   "cell_type": "code",
   "execution_count": null,
   "id": "c34698ff",
   "metadata": {},
   "outputs": [],
   "source": [
    "## Open and read data file as specified in the question\n",
    "## Print the required output in given format\n",
    "import numpy as np\n",
    "from scipy import stats\n",
    "\n",
    "z_list = []\n",
    "data = [6, 7, 7, 12, 13, 13, 15, 16, 19, 22]\n",
    "z_score = stats.zscore(data)\n",
    "\n",
    "for i in range(len(z_score)):\n",
    "    z_list.append(round(z_score[i],1))\n",
    "\n",
    "print(z_list)"
   ]
  },
  {
   "cell_type": "markdown",
   "id": "72923a8a",
   "metadata": {},
   "source": [
    "# Standardize the Data"
   ]
  },
  {
   "cell_type": "code",
   "execution_count": null,
   "id": "5eb3560b",
   "metadata": {},
   "outputs": [],
   "source": [
    "## Open and read data file as specified in the question\n",
    "## Print the required output in given format\n",
    "from matplotlib import pyplot as plt \n",
    "import numpy as np \n",
    "import statistics \n",
    "data = [567.45,572.45,572.45,589.12,613.87,615.78,628.45,644.87,650.45,652.20,656.87,661.45,666.45,667.70,668.95,675.28,675.78,685.53,694.28,697.62,705.78,705.87,708.12,711.03,714.03,716.03,722.28,728.12,728.70,729.03,730.12,731.95,735.03,736.95,737.37,738.28,739.78,740.62,743.62,747.20,748.20,748.28,748.53,750.03,752.12,754.70,755.03,758.37,760.53,764.03,769.28,775.45,781.20,781.70,785.62,792.78,793.37,795.28,797.62,798.95,799.70,799.95,810.87,811.53,813.62,814.03,814.78,817.87,818.87,820.70,821.12,825.62,828.62,841.45,842.03,842.87,849.62,874.70,878.78,897.45] \n",
    "original_mean = statistics.mean(data) \n",
    "original_sd = statistics.stdev(data) \n",
    "standardized_data = [] \n",
    "for d in data: \n",
    "    standardized_data.append((d - original_mean)/original_sd) \n",
    "standardized_mean = statistics.mean(standardized_data)\n",
    "standardized_sd = statistics.stdev(standardized_data)\n",
    "print(round(standardized_mean))\n",
    "print(round(standardized_sd))"
   ]
  }
 ],
 "metadata": {
  "kernelspec": {
   "display_name": "Python 3 (ipykernel)",
   "language": "python",
   "name": "python3"
  },
  "language_info": {
   "codemirror_mode": {
    "name": "ipython",
    "version": 3
   },
   "file_extension": ".py",
   "mimetype": "text/x-python",
   "name": "python",
   "nbconvert_exporter": "python",
   "pygments_lexer": "ipython3",
   "version": "3.9.12"
  }
 },
 "nbformat": 4,
 "nbformat_minor": 5
}
