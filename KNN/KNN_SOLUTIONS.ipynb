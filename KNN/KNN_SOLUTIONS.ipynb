{
 "cells": [
  {
   "cell_type": "markdown",
   "id": "3cbab71a",
   "metadata": {},
   "source": [
    "# Implementation of KNN using Sklearn"
   ]
  },
  {
   "cell_type": "code",
   "execution_count": 1,
   "id": "7635dd87",
   "metadata": {},
   "outputs": [],
   "source": [
    "#For the sklearn toy dataset \"Breast Cancer\", you need to perform KNN on this dataset using Sklearn.\n",
    "#Note: Use \"random_state=42\"\n",
    "#Output\n",
    "#Testing score rounded to 2 decimal places"
   ]
  },
  {
   "cell_type": "code",
   "execution_count": 2,
   "id": "af653ef0",
   "metadata": {},
   "outputs": [
    {
     "name": "stdout",
     "output_type": "stream",
     "text": [
      "0.97\n"
     ]
    }
   ],
   "source": [
    "from sklearn import datasets \n",
    "from sklearn.neighbors import KNeighborsClassifier \n",
    "from sklearn.model_selection import train_test_split \n",
    "dataset = datasets.load_breast_cancer() \n",
    "X_train, X_test, y_train, y_test = train_test_split(dataset.data, dataset.target, random_state=42) \n",
    "clf = KNeighborsClassifier() \n",
    "clf.fit(X_train, y_train) \n",
    "print(round(clf.score(X_test, y_test), 2))"
   ]
  },
  {
   "cell_type": "markdown",
   "id": "792cbddd",
   "metadata": {},
   "source": [
    "# Implementation of Cross Validation using Sklearn"
   ]
  },
  {
   "cell_type": "code",
   "execution_count": 3,
   "id": "91a360c9",
   "metadata": {},
   "outputs": [],
   "source": [
    "#For the sklearn toy dataset \"Iris\", you need to calculate the Cross-validation score using the sklearn library.\n",
    "#Note: While using KFold keep the parameters as:\n",
    "#n_splits=3,\n",
    "#shuffle=True, \n",
    "#random_state=42"
   ]
  },
  {
   "cell_type": "code",
   "execution_count": null,
   "id": "9b5f484b",
   "metadata": {},
   "outputs": [],
   "source": [
    "import numpy as np\n",
    "from sklearn import datasets\n",
    "from sklearn.model_selection import KFold\n",
    "from sklearn.model_selection import cross_val_score\n",
    "from sklearn.model_selection import train_test_split\n",
    "from sklearn.linear_model import LinearRegression\n",
    "iris=datasets.load_iris()\n",
    "xtrain,xtest,ytrain,ytest=train_test_split(iris.data,iris.target,test_size=0.2)\n",
    "clf=LinearRegression()\n",
    "print(cross_val_score(clf,iris.data,iris.target,cv=KFold(3,True,42)))"
   ]
  },
  {
   "cell_type": "code",
   "execution_count": null,
   "id": "69ddaaee",
   "metadata": {},
   "outputs": [],
   "source": []
  }
 ],
 "metadata": {
  "kernelspec": {
   "display_name": "Python 3 (ipykernel)",
   "language": "python",
   "name": "python3"
  },
  "language_info": {
   "codemirror_mode": {
    "name": "ipython",
    "version": 3
   },
   "file_extension": ".py",
   "mimetype": "text/x-python",
   "name": "python",
   "nbconvert_exporter": "python",
   "pygments_lexer": "ipython3",
   "version": "3.9.12"
  }
 },
 "nbformat": 4,
 "nbformat_minor": 5
}
