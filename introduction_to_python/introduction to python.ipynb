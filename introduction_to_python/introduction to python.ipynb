{
 "cells": [
  {
   "cell_type": "code",
   "execution_count": null,
   "id": "852297e9",
   "metadata": {},
   "outputs": [],
   "source": [
    "# calcualte simple interest"
   ]
  },
  {
   "cell_type": "code",
   "execution_count": 1,
   "id": "b73799e6",
   "metadata": {},
   "outputs": [
    {
     "name": "stdout",
     "output_type": "stream",
     "text": [
      "10\n",
      "2\n",
      "2\n",
      "0\n"
     ]
    }
   ],
   "source": [
    "p=int(input())\n",
    "r=int(input())\n",
    "t=int(input())\n",
    "s=(p*r*t)//100\n",
    "print(s)"
   ]
  },
  {
   "cell_type": "code",
   "execution_count": 2,
   "id": "17d89ca4",
   "metadata": {},
   "outputs": [],
   "source": [
    "#Find average Marks"
   ]
  },
  {
   "cell_type": "code",
   "execution_count": 3,
   "id": "cdd3833d",
   "metadata": {},
   "outputs": [
    {
     "name": "stdout",
     "output_type": "stream",
     "text": [
      "1\n",
      "2\n",
      "3\n",
      "2.0\n"
     ]
    }
   ],
   "source": [
    "a=int(input())\n",
    "b=int(input())\n",
    "c=int(input())\n",
    "print((a+b+c)/3)"
   ]
  },
  {
   "cell_type": "code",
   "execution_count": 4,
   "id": "55e0ce2b",
   "metadata": {},
   "outputs": [],
   "source": [
    "#Find X raised to power N"
   ]
  },
  {
   "cell_type": "code",
   "execution_count": 5,
   "id": "dd8e9022",
   "metadata": {},
   "outputs": [
    {
     "name": "stdout",
     "output_type": "stream",
     "text": [
      "1\n",
      "1\n",
      "1\n"
     ]
    }
   ],
   "source": [
    "x = int(input())\n",
    "n = int(input())\n",
    "print(x**n)\n"
   ]
  },
  {
   "cell_type": "code",
   "execution_count": 6,
   "id": "dcb489b8",
   "metadata": {},
   "outputs": [],
   "source": [
    "#Arithmetic Progression"
   ]
  },
  {
   "cell_type": "code",
   "execution_count": null,
   "id": "d9af61be",
   "metadata": {},
   "outputs": [],
   "source": [
    "a=int(input())\n",
    "b=int(input())\n",
    "c=int(input())\n",
    "print(b-a)"
   ]
  },
  {
   "cell_type": "code",
   "execution_count": null,
   "id": "9427d555",
   "metadata": {},
   "outputs": [],
   "source": [
    "#Rectangular Area"
   ]
  },
  {
   "cell_type": "code",
   "execution_count": null,
   "id": "759a4662",
   "metadata": {},
   "outputs": [],
   "source": [
    "# Write your code here\n",
    "x1 = int(input())\n",
    "y1 = int(input())\n",
    "x2 = int(input())\n",
    "y2 = int(input())\n",
    "print((x2-x1)*(y2-y1))"
   ]
  },
  {
   "cell_type": "code",
   "execution_count": null,
   "id": "306a57f3",
   "metadata": {},
   "outputs": [],
   "source": []
  }
 ],
 "metadata": {
  "kernelspec": {
   "display_name": "Python 3 (ipykernel)",
   "language": "python",
   "name": "python3"
  },
  "language_info": {
   "codemirror_mode": {
    "name": "ipython",
    "version": 3
   },
   "file_extension": ".py",
   "mimetype": "text/x-python",
   "name": "python",
   "nbconvert_exporter": "python",
   "pygments_lexer": "ipython3",
   "version": "3.9.12"
  }
 },
 "nbformat": 4,
 "nbformat_minor": 5
}
