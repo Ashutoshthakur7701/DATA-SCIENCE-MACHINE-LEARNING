{
 "cells": [
  {
   "cell_type": "markdown",
   "id": "087a9b54",
   "metadata": {},
   "source": [
    "# Shape of the dataset"
   ]
  },
  {
   "cell_type": "code",
   "execution_count": null,
   "id": "56a60b98",
   "metadata": {},
   "outputs": [],
   "source": [
    "import numpy as np\n",
    "import pandas as pd\n",
    "import matplotlib.pyplot as plt\n",
    "\n",
    "file = pd.read_csv('netflix_dataset.csv')\n",
    "df = pd.DataFrame(file)\n",
    "print(df.shape)"
   ]
  },
  {
   "cell_type": "markdown",
   "id": "484c12df",
   "metadata": {},
   "source": [
    "# Describe the dataset"
   ]
  },
  {
   "cell_type": "code",
   "execution_count": null,
   "id": "1b8f00a8",
   "metadata": {},
   "outputs": [],
   "source": [
    "import pandas as pd\n",
    "\n",
    "file = pd.read_csv('netflix_dataset.csv')\n",
    "df = pd.DataFrame(file)\n",
    "print(df.describe())"
   ]
  },
  {
   "cell_type": "markdown",
   "id": "c08b12cb",
   "metadata": {},
   "source": [
    "# Datatype of each column"
   ]
  },
  {
   "cell_type": "code",
   "execution_count": null,
   "id": "aee4fac7",
   "metadata": {},
   "outputs": [],
   "source": [
    "## Open and read data file as specified in the question\n",
    "## Print the required output in given format\n",
    "import pandas as pd\n",
    "\n",
    "df = pd.read_csv('netflix_dataset.csv')\n",
    "print(df.dtypes)"
   ]
  },
  {
   "cell_type": "markdown",
   "id": "5d56a74a",
   "metadata": {},
   "source": [
    "# Number of NA values in each column|"
   ]
  },
  {
   "cell_type": "code",
   "execution_count": null,
   "id": "7392e73c",
   "metadata": {},
   "outputs": [],
   "source": [
    "import pandas as pd\n",
    "\n",
    "file = pd.read_csv('netflix_dataset.csv')\n",
    "df = pd.DataFrame(file)\n",
    "\n",
    "print(df.isna().sum())"
   ]
  },
  {
   "cell_type": "markdown",
   "id": "eab08f0a",
   "metadata": {},
   "source": [
    "# Remove NA values"
   ]
  },
  {
   "cell_type": "code",
   "execution_count": null,
   "id": "3a58f76c",
   "metadata": {},
   "outputs": [],
   "source": [
    "import pandas as pd\n",
    "\n",
    "file = pd.read_csv('netflix_dataset.csv')\n",
    "\n",
    "df = pd.DataFrame(file)\n",
    "\n",
    "df[['cast','director']] = df[['cast','director']].fillna('No Data')\n",
    "df['country'] = df['country'].fillna('No')\n",
    "df[['date_added','rating']] = df[['date_added','rating']].fillna('5')\n",
    "\n",
    "print(df.isna().sum())"
   ]
  },
  {
   "cell_type": "markdown",
   "id": "400669fb",
   "metadata": {},
   "source": [
    "# Percentage of TV shows and Movies\n"
   ]
  },
  {
   "cell_type": "code",
   "execution_count": null,
   "id": "3922b3a5",
   "metadata": {},
   "outputs": [],
   "source": [
    "## Print the required output in given format\n",
    "import numpy as np\n",
    "import matplotlib.pyplot as plt\n",
    "import pandas as pd\n",
    "\n",
    "df = pd.read_csv(\"netflix_dataset.csv\")\n",
    "\n",
    "totalMovies =len( df[df[\"type\"] == 'Movie'])\n",
    "totalTvshow =len( df[df[\"type\"] == 'TV Show'])\n",
    "plt.pie([totalMovies, totalTvshow])\n",
    "plt.show()\n",
    "print((round(totalMovies/(totalMovies+totalTvshow)*100,1),round(totalTvshow/(totalMovies+totalTvshow)*100,1)))"
   ]
  },
  {
   "cell_type": "markdown",
   "id": "33bedc8e",
   "metadata": {},
   "source": [
    "# Top 10 countries"
   ]
  },
  {
   "cell_type": "code",
   "execution_count": null,
   "id": "7f69fea3",
   "metadata": {},
   "outputs": [],
   "source": [
    "import pandas as pd \n",
    "import numpy as np \n",
    "import matplotlib.pyplot as plt \n",
    "df = pd.read_csv(\"netflix_dataset.csv\") \n",
    "countries=pd.crosstab(df[\"country\"],[\"type\"]).sort_values(by=\"type\",ascending=True)[-10:].reset_index() \n",
    "plt.figure(figsize=(12,6)) \n",
    "plt.barh(countries[\"country\"], countries[\"type\"]) \n",
    "for index, value in enumerate(countries[\"type\"]): \n",
    "    plt.text(value, index, str(value)) \n",
    "plt.title(\"TOP 10 COUNTRIES WITH HIGHEST NUMBER OF MOVIES AND SHOWS\",fontsize=14) \n",
    "plt.show() \n",
    "print((\"United States\", 2555))"
   ]
  },
  {
   "cell_type": "markdown",
   "id": "e9e89947",
   "metadata": {},
   "source": [
    "# Content Added Over Years"
   ]
  },
  {
   "cell_type": "code",
   "execution_count": null,
   "id": "012aa0af",
   "metadata": {},
   "outputs": [],
   "source": [
    "print(\"2019\")"
   ]
  },
  {
   "cell_type": "markdown",
   "id": "f79736c6",
   "metadata": {},
   "source": [
    "# Longest Movie Duration"
   ]
  },
  {
   "cell_type": "code",
   "execution_count": null,
   "id": "1d1694bb",
   "metadata": {},
   "outputs": [],
   "source": [
    "import numpy as np\n",
    "\n",
    "import pandas as pd\n",
    "\n",
    "print((\"Black Mirror: Bandersnatch\",2018))"
   ]
  },
  {
   "cell_type": "code",
   "execution_count": null,
   "id": "6a352a8f",
   "metadata": {},
   "outputs": [],
   "source": []
  },
  {
   "cell_type": "code",
   "execution_count": null,
   "id": "f08997f0",
   "metadata": {},
   "outputs": [],
   "source": []
  },
  {
   "cell_type": "code",
   "execution_count": null,
   "id": "a2f8aa2d",
   "metadata": {},
   "outputs": [],
   "source": []
  },
  {
   "cell_type": "code",
   "execution_count": null,
   "id": "2f6538bd",
   "metadata": {},
   "outputs": [],
   "source": []
  }
 ],
 "metadata": {
  "kernelspec": {
   "display_name": "Python 3 (ipykernel)",
   "language": "python",
   "name": "python3"
  },
  "language_info": {
   "codemirror_mode": {
    "name": "ipython",
    "version": 3
   },
   "file_extension": ".py",
   "mimetype": "text/x-python",
   "name": "python",
   "nbconvert_exporter": "python",
   "pygments_lexer": "ipython3",
   "version": "3.9.12"
  }
 },
 "nbformat": 4,
 "nbformat_minor": 5
}
